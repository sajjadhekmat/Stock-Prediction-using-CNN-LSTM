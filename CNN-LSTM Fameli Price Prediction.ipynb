{
  "cells": [
    {
      "cell_type": "code",
      "execution_count": null,
      "metadata": {
        "id": "aTwCtXPpxUBV"
      },
      "outputs": [],
      "source": []
    },
    {
      "cell_type": "code",
      "execution_count": null,
      "metadata": {
        "colab": {
          "base_uri": "https://localhost:8080/"
        },
        "id": "bcb2qbtgxqAB",
        "outputId": "d37487c3-fe4e-4ca0-9bd6-4381559cd782"
      },
      "outputs": [
        {
          "name": "stdout",
          "output_type": "stream",
          "text": [
            "Collecting optuna\n",
            "  Downloading optuna-3.5.0-py3-none-any.whl (413 kB)\n",
            "\u001b[2K     \u001b[90m━━━━━━━━━━━━━━━━━━━━━━━━━━━━━━━━━━━━━━━━\u001b[0m \u001b[32m413.4/413.4 kB\u001b[0m \u001b[31m2.1 MB/s\u001b[0m eta \u001b[36m0:00:00\u001b[0m\n",
            "\u001b[?25hCollecting alembic>=1.5.0 (from optuna)\n",
            "  Downloading alembic-1.13.1-py3-none-any.whl (233 kB)\n",
            "\u001b[2K     \u001b[90m━━━━━━━━━━━━━━━━━━━━━━━━━━━━━━━━━━━━━━━━\u001b[0m \u001b[32m233.4/233.4 kB\u001b[0m \u001b[31m12.1 MB/s\u001b[0m eta \u001b[36m0:00:00\u001b[0m\n",
            "\u001b[?25hCollecting colorlog (from optuna)\n",
            "  Downloading colorlog-6.8.0-py3-none-any.whl (11 kB)\n",
            "Requirement already satisfied: numpy in /usr/local/lib/python3.10/dist-packages (from optuna) (1.23.5)\n",
            "Requirement already satisfied: packaging>=20.0 in /usr/local/lib/python3.10/dist-packages (from optuna) (23.2)\n",
            "Requirement already satisfied: sqlalchemy>=1.3.0 in /usr/local/lib/python3.10/dist-packages (from optuna) (2.0.24)\n",
            "Requirement already satisfied: tqdm in /usr/local/lib/python3.10/dist-packages (from optuna) (4.66.1)\n",
            "Requirement already satisfied: PyYAML in /usr/local/lib/python3.10/dist-packages (from optuna) (6.0.1)\n",
            "Collecting Mako (from alembic>=1.5.0->optuna)\n",
            "  Downloading Mako-1.3.1-py3-none-any.whl (78 kB)\n",
            "\u001b[2K     \u001b[90m━━━━━━━━━━━━━━━━━━━━━━━━━━━━━━━━━━━━━━━━\u001b[0m \u001b[32m78.7/78.7 kB\u001b[0m \u001b[31m11.3 MB/s\u001b[0m eta \u001b[36m0:00:00\u001b[0m\n",
            "\u001b[?25hRequirement already satisfied: typing-extensions>=4 in /usr/local/lib/python3.10/dist-packages (from alembic>=1.5.0->optuna) (4.5.0)\n",
            "Requirement already satisfied: greenlet!=0.4.17 in /usr/local/lib/python3.10/dist-packages (from sqlalchemy>=1.3.0->optuna) (3.0.3)\n",
            "Requirement already satisfied: MarkupSafe>=0.9.2 in /usr/local/lib/python3.10/dist-packages (from Mako->alembic>=1.5.0->optuna) (2.1.3)\n",
            "Installing collected packages: Mako, colorlog, alembic, optuna\n",
            "Successfully installed Mako-1.3.1 alembic-1.13.1 colorlog-6.8.0 optuna-3.5.0\n"
          ]
        }
      ],
      "source": [
        "!pip install optuna"
      ]
    },
    {
      "cell_type": "code",
      "execution_count": null,
      "metadata": {
        "colab": {
          "base_uri": "https://localhost:8080/"
        },
        "id": "h6GIL3CzrBYO",
        "outputId": "2dea1bac-8358-4aa3-d51b-48f46261b239"
      },
      "outputs": [
        {
          "name": "stdout",
          "output_type": "stream",
          "text": [
            "Collecting ta\n",
            "  Downloading ta-0.11.0.tar.gz (25 kB)\n",
            "  Preparing metadata (setup.py) ... \u001b[?25l\u001b[?25hdone\n",
            "Requirement already satisfied: numpy in /usr/local/lib/python3.10/dist-packages (from ta) (1.23.5)\n",
            "Requirement already satisfied: pandas in /usr/local/lib/python3.10/dist-packages (from ta) (1.5.3)\n",
            "Requirement already satisfied: python-dateutil>=2.8.1 in /usr/local/lib/python3.10/dist-packages (from pandas->ta) (2.8.2)\n",
            "Requirement already satisfied: pytz>=2020.1 in /usr/local/lib/python3.10/dist-packages (from pandas->ta) (2023.3.post1)\n",
            "Requirement already satisfied: six>=1.5 in /usr/local/lib/python3.10/dist-packages (from python-dateutil>=2.8.1->pandas->ta) (1.16.0)\n",
            "Building wheels for collected packages: ta\n",
            "  Building wheel for ta (setup.py) ... \u001b[?25l\u001b[?25hdone\n",
            "  Created wheel for ta: filename=ta-0.11.0-py3-none-any.whl size=29413 sha256=522aa47edbf7a0b14d05080bc5122b78a5fbb688bd17b010beca4dab9b41a7ce\n",
            "  Stored in directory: /root/.cache/pip/wheels/5f/67/4f/8a9f252836e053e532c6587a3230bc72a4deb16b03a829610b\n",
            "Successfully built ta\n",
            "Installing collected packages: ta\n",
            "Successfully installed ta-0.11.0\n"
          ]
        }
      ],
      "source": [
        "#Add ta library for using technical indicators\n",
        "!pip install ta"
      ]
    },
    {
      "cell_type": "code",
      "execution_count": null,
      "metadata": {
        "colab": {
          "base_uri": "https://localhost:8080/",
          "height": 175
        },
        "id": "fgWM_l3jC_w4",
        "outputId": "6343b8a0-660d-4e4c-f15a-332ad74d896a"
      },
      "outputs": [
        {
          "ename": "NameError",
          "evalue": "name 'tf' is not defined",
          "output_type": "error",
          "traceback": [
            "\u001b[0;31m---------------------------------------------------------------------------\u001b[0m",
            "\u001b[0;31mNameError\u001b[0m                                 Traceback (most recent call last)",
            "\u001b[0;32m<ipython-input-3-65f07e81e169>\u001b[0m in \u001b[0;36m<cell line: 1>\u001b[0;34m()\u001b[0m\n\u001b[0;32m----> 1\u001b[0;31m \u001b[0mprint\u001b[0m\u001b[0;34m(\u001b[0m\u001b[0mtf\u001b[0m\u001b[0;34m.\u001b[0m\u001b[0m__version__\u001b[0m\u001b[0;34m)\u001b[0m\u001b[0;34m\u001b[0m\u001b[0;34m\u001b[0m\u001b[0m\n\u001b[0m",
            "\u001b[0;31mNameError\u001b[0m: name 'tf' is not defined"
          ]
        }
      ],
      "source": [
        "print(tf.__version__)"
      ]
    },
    {
      "cell_type": "code",
      "execution_count": null,
      "metadata": {
        "id": "86txU6_5QKJM"
      },
      "outputs": [],
      "source": [
        "import tensorflow as tf"
      ]
    },
    {
      "cell_type": "code",
      "execution_count": null,
      "metadata": {
        "id": "R8be6gY2tIat"
      },
      "outputs": [],
      "source": [
        "#import the libraries\n",
        "\n",
        "import ta\n",
        "import math\n",
        "import keras\n",
        "import numpy as np\n",
        "import pandas as pd\n",
        "from sklearn.preprocessing import MinMaxScaler\n",
        "from keras.models import Sequential\n",
        "from keras.layers import Dense, LSTM, Dropout, Conv2D, TimeDistributed, Flatten, Lambda, Reshape\n",
        "import matplotlib.pyplot as plt\n",
        "import datetime\n",
        "plt.style.use('fivethirtyeight')\n",
        "from ta import add_all_ta_features\n",
        "from ta.utils import dropna\n",
        "from keras.layers import MaxPooling2D\n",
        "from tensorflow.keras.callbacks import EarlyStopping, ModelCheckpoint, ReduceLROnPlateau\n",
        "from keras.layers import Bidirectional\n",
        "import optuna\n",
        "from keras.backend import clear_session\n",
        "import urllib\n",
        "import warnings"
      ]
    },
    {
      "cell_type": "code",
      "execution_count": null,
      "metadata": {
        "colab": {
          "base_uri": "https://localhost:8080/",
          "height": 510
        },
        "id": "WQLDqYDtu0ps",
        "outputId": "88eb2039-7d71-4869-f21e-af90bba9c224"
      },
      "outputs": [
        {
          "name": "stderr",
          "output_type": "stream",
          "text": [
            "<ipython-input-6-1d03dc201d06>:4: SettingWithCopyWarning: \n",
            "A value is trying to be set on a copy of a slice from a DataFrame\n",
            "\n",
            "See the caveats in the documentation: https://pandas.pydata.org/pandas-docs/stable/user_guide/indexing.html#returning-a-view-versus-a-copy\n",
            "  df['date'][i] = datetime.datetime.strptime(\n"
          ]
        },
        {
          "data": {
            "text/html": [
              "\n",
              "  <div id=\"df-5ccf37bf-32d5-4899-8b74-30683f49ed76\" class=\"colab-df-container\">\n",
              "    <div>\n",
              "<style scoped>\n",
              "    .dataframe tbody tr th:only-of-type {\n",
              "        vertical-align: middle;\n",
              "    }\n",
              "\n",
              "    .dataframe tbody tr th {\n",
              "        vertical-align: top;\n",
              "    }\n",
              "\n",
              "    .dataframe thead th {\n",
              "        text-align: right;\n",
              "    }\n",
              "</style>\n",
              "<table border=\"1\" class=\"dataframe\">\n",
              "  <thead>\n",
              "    <tr style=\"text-align: right;\">\n",
              "      <th></th>\n",
              "      <th>date</th>\n",
              "      <th>Tic</th>\n",
              "      <th>open</th>\n",
              "      <th>high</th>\n",
              "      <th>low</th>\n",
              "      <th>close</th>\n",
              "      <th>volume</th>\n",
              "    </tr>\n",
              "  </thead>\n",
              "  <tbody>\n",
              "    <tr>\n",
              "      <th>0</th>\n",
              "      <td>02-04-2007</td>\n",
              "      <td>Fameli</td>\n",
              "      <td>10.00</td>\n",
              "      <td>10.00</td>\n",
              "      <td>9.00</td>\n",
              "      <td>9.26</td>\n",
              "      <td>172898994</td>\n",
              "    </tr>\n",
              "    <tr>\n",
              "      <th>1</th>\n",
              "      <td>02-05-2007</td>\n",
              "      <td>Fameli</td>\n",
              "      <td>9.45</td>\n",
              "      <td>9.45</td>\n",
              "      <td>9.45</td>\n",
              "      <td>9.45</td>\n",
              "      <td>10826496</td>\n",
              "    </tr>\n",
              "    <tr>\n",
              "      <th>2</th>\n",
              "      <td>02-06-2007</td>\n",
              "      <td>Fameli</td>\n",
              "      <td>9.63</td>\n",
              "      <td>9.63</td>\n",
              "      <td>9.63</td>\n",
              "      <td>9.63</td>\n",
              "      <td>26850133</td>\n",
              "    </tr>\n",
              "    <tr>\n",
              "      <th>3</th>\n",
              "      <td>02-07-2007</td>\n",
              "      <td>Fameli</td>\n",
              "      <td>9.83</td>\n",
              "      <td>9.83</td>\n",
              "      <td>9.83</td>\n",
              "      <td>9.83</td>\n",
              "      <td>31086849</td>\n",
              "    </tr>\n",
              "    <tr>\n",
              "      <th>4</th>\n",
              "      <td>02-10-2007</td>\n",
              "      <td>Fameli</td>\n",
              "      <td>10.02</td>\n",
              "      <td>10.02</td>\n",
              "      <td>10.02</td>\n",
              "      <td>10.02</td>\n",
              "      <td>40645528</td>\n",
              "    </tr>\n",
              "    <tr>\n",
              "      <th>...</th>\n",
              "      <td>...</td>\n",
              "      <td>...</td>\n",
              "      <td>...</td>\n",
              "      <td>...</td>\n",
              "      <td>...</td>\n",
              "      <td>...</td>\n",
              "      <td>...</td>\n",
              "    </tr>\n",
              "    <tr>\n",
              "      <th>3320</th>\n",
              "      <td>04-26-2022</td>\n",
              "      <td>Fameli</td>\n",
              "      <td>2822.79</td>\n",
              "      <td>2837.67</td>\n",
              "      <td>2796.68</td>\n",
              "      <td>2819.14</td>\n",
              "      <td>92410241</td>\n",
              "    </tr>\n",
              "    <tr>\n",
              "      <th>3321</th>\n",
              "      <td>04-27-2022</td>\n",
              "      <td>Fameli</td>\n",
              "      <td>2807.86</td>\n",
              "      <td>2830.42</td>\n",
              "      <td>2789.26</td>\n",
              "      <td>2822.81</td>\n",
              "      <td>127762145</td>\n",
              "    </tr>\n",
              "    <tr>\n",
              "      <th>3322</th>\n",
              "      <td>04-30-2022</td>\n",
              "      <td>Fameli</td>\n",
              "      <td>2822.81</td>\n",
              "      <td>2826.48</td>\n",
              "      <td>2774.54</td>\n",
              "      <td>2807.85</td>\n",
              "      <td>93701480</td>\n",
              "    </tr>\n",
              "    <tr>\n",
              "      <th>3323</th>\n",
              "      <td>05-01-2022</td>\n",
              "      <td>Fameli</td>\n",
              "      <td>2789.31</td>\n",
              "      <td>2789.31</td>\n",
              "      <td>2763.20</td>\n",
              "      <td>2778.08</td>\n",
              "      <td>68683753</td>\n",
              "    </tr>\n",
              "    <tr>\n",
              "      <th>3324</th>\n",
              "      <td>05-02-2022</td>\n",
              "      <td>Fameli</td>\n",
              "      <td>2774.47</td>\n",
              "      <td>2826.42</td>\n",
              "      <td>2726.13</td>\n",
              "      <td>2789.19</td>\n",
              "      <td>120844389</td>\n",
              "    </tr>\n",
              "  </tbody>\n",
              "</table>\n",
              "<p>3325 rows × 7 columns</p>\n",
              "</div>\n",
              "    <div class=\"colab-df-buttons\">\n",
              "\n",
              "  <div class=\"colab-df-container\">\n",
              "    <button class=\"colab-df-convert\" onclick=\"convertToInteractive('df-5ccf37bf-32d5-4899-8b74-30683f49ed76')\"\n",
              "            title=\"Convert this dataframe to an interactive table.\"\n",
              "            style=\"display:none;\">\n",
              "\n",
              "  <svg xmlns=\"http://www.w3.org/2000/svg\" height=\"24px\" viewBox=\"0 -960 960 960\">\n",
              "    <path d=\"M120-120v-720h720v720H120Zm60-500h600v-160H180v160Zm220 220h160v-160H400v160Zm0 220h160v-160H400v160ZM180-400h160v-160H180v160Zm440 0h160v-160H620v160ZM180-180h160v-160H180v160Zm440 0h160v-160H620v160Z\"/>\n",
              "  </svg>\n",
              "    </button>\n",
              "\n",
              "  <style>\n",
              "    .colab-df-container {\n",
              "      display:flex;\n",
              "      gap: 12px;\n",
              "    }\n",
              "\n",
              "    .colab-df-convert {\n",
              "      background-color: #E8F0FE;\n",
              "      border: none;\n",
              "      border-radius: 50%;\n",
              "      cursor: pointer;\n",
              "      display: none;\n",
              "      fill: #1967D2;\n",
              "      height: 32px;\n",
              "      padding: 0 0 0 0;\n",
              "      width: 32px;\n",
              "    }\n",
              "\n",
              "    .colab-df-convert:hover {\n",
              "      background-color: #E2EBFA;\n",
              "      box-shadow: 0px 1px 2px rgba(60, 64, 67, 0.3), 0px 1px 3px 1px rgba(60, 64, 67, 0.15);\n",
              "      fill: #174EA6;\n",
              "    }\n",
              "\n",
              "    .colab-df-buttons div {\n",
              "      margin-bottom: 4px;\n",
              "    }\n",
              "\n",
              "    [theme=dark] .colab-df-convert {\n",
              "      background-color: #3B4455;\n",
              "      fill: #D2E3FC;\n",
              "    }\n",
              "\n",
              "    [theme=dark] .colab-df-convert:hover {\n",
              "      background-color: #434B5C;\n",
              "      box-shadow: 0px 1px 3px 1px rgba(0, 0, 0, 0.15);\n",
              "      filter: drop-shadow(0px 1px 2px rgba(0, 0, 0, 0.3));\n",
              "      fill: #FFFFFF;\n",
              "    }\n",
              "  </style>\n",
              "\n",
              "    <script>\n",
              "      const buttonEl =\n",
              "        document.querySelector('#df-5ccf37bf-32d5-4899-8b74-30683f49ed76 button.colab-df-convert');\n",
              "      buttonEl.style.display =\n",
              "        google.colab.kernel.accessAllowed ? 'block' : 'none';\n",
              "\n",
              "      async function convertToInteractive(key) {\n",
              "        const element = document.querySelector('#df-5ccf37bf-32d5-4899-8b74-30683f49ed76');\n",
              "        const dataTable =\n",
              "          await google.colab.kernel.invokeFunction('convertToInteractive',\n",
              "                                                    [key], {});\n",
              "        if (!dataTable) return;\n",
              "\n",
              "        const docLinkHtml = 'Like what you see? Visit the ' +\n",
              "          '<a target=\"_blank\" href=https://colab.research.google.com/notebooks/data_table.ipynb>data table notebook</a>'\n",
              "          + ' to learn more about interactive tables.';\n",
              "        element.innerHTML = '';\n",
              "        dataTable['output_type'] = 'display_data';\n",
              "        await google.colab.output.renderOutput(dataTable, element);\n",
              "        const docLink = document.createElement('div');\n",
              "        docLink.innerHTML = docLinkHtml;\n",
              "        element.appendChild(docLink);\n",
              "      }\n",
              "    </script>\n",
              "  </div>\n",
              "\n",
              "\n",
              "<div id=\"df-2a2209ad-826a-4dac-add4-6a77de249f15\">\n",
              "  <button class=\"colab-df-quickchart\" onclick=\"quickchart('df-2a2209ad-826a-4dac-add4-6a77de249f15')\"\n",
              "            title=\"Suggest charts\"\n",
              "            style=\"display:none;\">\n",
              "\n",
              "<svg xmlns=\"http://www.w3.org/2000/svg\" height=\"24px\"viewBox=\"0 0 24 24\"\n",
              "     width=\"24px\">\n",
              "    <g>\n",
              "        <path d=\"M19 3H5c-1.1 0-2 .9-2 2v14c0 1.1.9 2 2 2h14c1.1 0 2-.9 2-2V5c0-1.1-.9-2-2-2zM9 17H7v-7h2v7zm4 0h-2V7h2v10zm4 0h-2v-4h2v4z\"/>\n",
              "    </g>\n",
              "</svg>\n",
              "  </button>\n",
              "\n",
              "<style>\n",
              "  .colab-df-quickchart {\n",
              "      --bg-color: #E8F0FE;\n",
              "      --fill-color: #1967D2;\n",
              "      --hover-bg-color: #E2EBFA;\n",
              "      --hover-fill-color: #174EA6;\n",
              "      --disabled-fill-color: #AAA;\n",
              "      --disabled-bg-color: #DDD;\n",
              "  }\n",
              "\n",
              "  [theme=dark] .colab-df-quickchart {\n",
              "      --bg-color: #3B4455;\n",
              "      --fill-color: #D2E3FC;\n",
              "      --hover-bg-color: #434B5C;\n",
              "      --hover-fill-color: #FFFFFF;\n",
              "      --disabled-bg-color: #3B4455;\n",
              "      --disabled-fill-color: #666;\n",
              "  }\n",
              "\n",
              "  .colab-df-quickchart {\n",
              "    background-color: var(--bg-color);\n",
              "    border: none;\n",
              "    border-radius: 50%;\n",
              "    cursor: pointer;\n",
              "    display: none;\n",
              "    fill: var(--fill-color);\n",
              "    height: 32px;\n",
              "    padding: 0;\n",
              "    width: 32px;\n",
              "  }\n",
              "\n",
              "  .colab-df-quickchart:hover {\n",
              "    background-color: var(--hover-bg-color);\n",
              "    box-shadow: 0 1px 2px rgba(60, 64, 67, 0.3), 0 1px 3px 1px rgba(60, 64, 67, 0.15);\n",
              "    fill: var(--button-hover-fill-color);\n",
              "  }\n",
              "\n",
              "  .colab-df-quickchart-complete:disabled,\n",
              "  .colab-df-quickchart-complete:disabled:hover {\n",
              "    background-color: var(--disabled-bg-color);\n",
              "    fill: var(--disabled-fill-color);\n",
              "    box-shadow: none;\n",
              "  }\n",
              "\n",
              "  .colab-df-spinner {\n",
              "    border: 2px solid var(--fill-color);\n",
              "    border-color: transparent;\n",
              "    border-bottom-color: var(--fill-color);\n",
              "    animation:\n",
              "      spin 1s steps(1) infinite;\n",
              "  }\n",
              "\n",
              "  @keyframes spin {\n",
              "    0% {\n",
              "      border-color: transparent;\n",
              "      border-bottom-color: var(--fill-color);\n",
              "      border-left-color: var(--fill-color);\n",
              "    }\n",
              "    20% {\n",
              "      border-color: transparent;\n",
              "      border-left-color: var(--fill-color);\n",
              "      border-top-color: var(--fill-color);\n",
              "    }\n",
              "    30% {\n",
              "      border-color: transparent;\n",
              "      border-left-color: var(--fill-color);\n",
              "      border-top-color: var(--fill-color);\n",
              "      border-right-color: var(--fill-color);\n",
              "    }\n",
              "    40% {\n",
              "      border-color: transparent;\n",
              "      border-right-color: var(--fill-color);\n",
              "      border-top-color: var(--fill-color);\n",
              "    }\n",
              "    60% {\n",
              "      border-color: transparent;\n",
              "      border-right-color: var(--fill-color);\n",
              "    }\n",
              "    80% {\n",
              "      border-color: transparent;\n",
              "      border-right-color: var(--fill-color);\n",
              "      border-bottom-color: var(--fill-color);\n",
              "    }\n",
              "    90% {\n",
              "      border-color: transparent;\n",
              "      border-bottom-color: var(--fill-color);\n",
              "    }\n",
              "  }\n",
              "</style>\n",
              "\n",
              "  <script>\n",
              "    async function quickchart(key) {\n",
              "      const quickchartButtonEl =\n",
              "        document.querySelector('#' + key + ' button');\n",
              "      quickchartButtonEl.disabled = true;  // To prevent multiple clicks.\n",
              "      quickchartButtonEl.classList.add('colab-df-spinner');\n",
              "      try {\n",
              "        const charts = await google.colab.kernel.invokeFunction(\n",
              "            'suggestCharts', [key], {});\n",
              "      } catch (error) {\n",
              "        console.error('Error during call to suggestCharts:', error);\n",
              "      }\n",
              "      quickchartButtonEl.classList.remove('colab-df-spinner');\n",
              "      quickchartButtonEl.classList.add('colab-df-quickchart-complete');\n",
              "    }\n",
              "    (() => {\n",
              "      let quickchartButtonEl =\n",
              "        document.querySelector('#df-2a2209ad-826a-4dac-add4-6a77de249f15 button');\n",
              "      quickchartButtonEl.style.display =\n",
              "        google.colab.kernel.accessAllowed ? 'block' : 'none';\n",
              "    })();\n",
              "  </script>\n",
              "</div>\n",
              "    </div>\n",
              "  </div>\n"
            ],
            "text/plain": [
              "            date     Tic     open    high       low    close    volume \n",
              "0     02-04-2007  Fameli    10.00    10.00     9.00     9.26  172898994\n",
              "1     02-05-2007  Fameli     9.45     9.45     9.45     9.45   10826496\n",
              "2     02-06-2007  Fameli     9.63     9.63     9.63     9.63   26850133\n",
              "3     02-07-2007  Fameli     9.83     9.83     9.83     9.83   31086849\n",
              "4     02-10-2007  Fameli    10.02    10.02    10.02    10.02   40645528\n",
              "...          ...     ...      ...      ...      ...      ...        ...\n",
              "3320  04-26-2022  Fameli  2822.79  2837.67  2796.68  2819.14   92410241\n",
              "3321  04-27-2022  Fameli  2807.86  2830.42  2789.26  2822.81  127762145\n",
              "3322  04-30-2022  Fameli  2822.81  2826.48  2774.54  2807.85   93701480\n",
              "3323  05-01-2022  Fameli  2789.31  2789.31  2763.20  2778.08   68683753\n",
              "3324  05-02-2022  Fameli  2774.47  2826.42  2726.13  2789.19  120844389\n",
              "\n",
              "[3325 rows x 7 columns]"
            ]
          },
          "execution_count": 6,
          "metadata": {},
          "output_type": "execute_result"
        }
      ],
      "source": [
        "df = pd.read_csv('/content/drive/MyDrive/DA.csv')\n",
        "df['date'] = df['date'].astype(str)\n",
        "for i in range(len(df['date'])):\n",
        "    df['date'][i] = datetime.datetime.strptime(\n",
        "        df['date'][i], '%m/%d/%Y').strftime('%m-%d-%Y')\n",
        "\n",
        "df"
      ]
    },
    {
      "cell_type": "code",
      "execution_count": null,
      "metadata": {
        "id": "glQNmGthBEJx"
      },
      "outputs": [],
      "source": [
        "from google.colab import drive\n",
        "drive.mount('/content/drive')"
      ]
    },
    {
      "cell_type": "code",
      "execution_count": null,
      "metadata": {
        "id": "NMky4gi11TKL"
      },
      "outputs": [],
      "source": [
        "#Making new dataframe dfi for inicators\n",
        "dfi = add_all_ta_features(\n",
        "    df, open=\"open\", high=\"high \", low=\"low\", close=\"close\", volume='volume ')"
      ]
    },
    {
      "cell_type": "code",
      "execution_count": null,
      "metadata": {
        "id": "coFhIiMHvTXt"
      },
      "outputs": [],
      "source": [
        "#Showing dfi\n",
        "dfi"
      ]
    },
    {
      "cell_type": "code",
      "execution_count": null,
      "metadata": {
        "id": "vTjblahnjDIi"
      },
      "outputs": [],
      "source": [
        "dfi.columns"
      ]
    },
    {
      "cell_type": "code",
      "execution_count": null,
      "metadata": {
        "id": "E1wP4ffMiOX3"
      },
      "outputs": [],
      "source": [
        "#Feature Selection\n",
        "\n",
        "dfr= df[['close','open', 'high ', 'low', 'trend_macd', 'momentum_rsi', 'trend_ema_fast','trend_cci', 'trend_sma_fast', 'trend_kst','momentum_ppo_hist', 'trend_macd_signal', 'trend_macd', 'momentum_stoch_rsi', 'momentum_stoch_rsi_d',\n",
        "'volume_obv','volume ', 'volatility_bbm', 'volatility_bbh', 'volatility_bbl', 'volatility_bbw',\n",
        "       'volatility_bbp', 'volatility_bbhi', 'volatility_bbli', 'volatility_kcc', 'volatility_kch', 'volatility_kcl', 'volatility_dcl', 'volatility_dch', 'volatility_kchi', 'volatility_kcli',\n",
        "       'volatility_dcl', 'volatility_dch', 'volatility_dcm', 'volatility_dcw','volatility_dcp',\n",
        "        'others_dlr', 'trend_macd',\n",
        "       'trend_macd_signal', 'trend_macd_diff', 'trend_sma_fast',\n",
        "       'trend_sma_slow', 'trend_ema_fast', 'trend_ema_slow',\n",
        "       'trend_vortex_ind_pos', 'trend_vortex_ind_neg', 'trend_vortex_ind_diff',\n",
        "       'trend_trix', 'trend_mass_index', 'trend_dpo', 'trend_kst',\n",
        "       'trend_kst_sig', 'trend_kst_diff', 'trend_ichimoku_conv',\n",
        "       'trend_ichimoku_base', 'trend_ichimoku_a', 'trend_ichimoku_b',\n",
        "       'trend_stc', 'trend_adx', 'trend_adx_pos', 'trend_adx_neg', 'trend_cci',\n",
        "        'trend_aroon_up',\n",
        "       'trend_aroon_down', 'trend_aroon_ind',\n",
        "        'trend_psar_up_indicator',\n",
        "       'trend_psar_down_indicator','momentum_rsi', 'momentum_stoch_rsi',\n",
        "       'momentum_stoch_rsi_k', 'momentum_stoch_rsi_d', 'momentum_tsi',\n",
        "       'momentum_uo', 'momentum_stoch', 'momentum_stoch_signal', 'momentum_wr',\n",
        "       'momentum_ao', 'momentum_roc', 'momentum_ppo', 'momentum_ppo_signal',\n",
        "       'momentum_ppo_hist', 'momentum_pvo', 'momentum_pvo_signal',\n",
        "       'momentum_pvo_hist', 'momentum_kama'\n",
        "        ]].copy()\n",
        "dfr"
      ]
    },
    {
      "cell_type": "code",
      "execution_count": null,
      "metadata": {
        "id": "J9FQ10Z5heng"
      },
      "outputs": [],
      "source": [
        "\n",
        "plt.plot(dfr['close'])\n",
        "plt.show()\n"
      ]
    },
    {
      "cell_type": "code",
      "execution_count": null,
      "metadata": {
        "id": "ZE6yUGte0KER"
      },
      "outputs": [],
      "source": [
        "dfr=dfr.dropna()\n",
        "dfr"
      ]
    },
    {
      "cell_type": "code",
      "execution_count": null,
      "metadata": {
        "id": "3D_jXXD7mVOM"
      },
      "outputs": [],
      "source": [
        "#Data Preparation\n",
        "dataset= np.array(dfr)\n",
        "\n",
        "\n",
        "#Get the number of rows\n",
        "training_data_len= math.ceil(len(dataset)*0.8)\n",
        "\n",
        "training_data_len"
      ]
    },
    {
      "cell_type": "code",
      "execution_count": null,
      "metadata": {
        "id": "ES0wcK0ZnpxX"
      },
      "outputs": [],
      "source": [
        "#Scale the data\n",
        "scalar= MinMaxScaler(feature_range=(-1,1))\n",
        "scaled_data= scalar.fit_transform(dataset)\n",
        "scaled_data"
      ]
    },
    {
      "cell_type": "code",
      "execution_count": null,
      "metadata": {
        "id": "ld1lsAyqesdC"
      },
      "outputs": [],
      "source": [
        "scaled_data.shape"
      ]
    },
    {
      "cell_type": "code",
      "execution_count": null,
      "metadata": {
        "colab": {
          "background_save": true
        },
        "id": "0ojfKj1ud7Gy",
        "outputId": "78cefced-c914-4c96-a5db-381674c0f9fc"
      },
      "outputs": [
        {
          "data": {
            "image/png": "[encoded data removed]",
            "text/plain": [
              "<Figure size 640x480 with 1 Axes>"
            ]
          },
          "metadata": {},
          "output_type": "display_data"
        }
      ],
      "source": [
        "plt.plot(scaled_data[:,7:8])\n",
        "plt.show()"
      ]
    },
    {
      "cell_type": "code",
      "execution_count": null,
      "metadata": {
        "colab": {
          "background_save": true
        },
        "id": "MZ07aWudoUkN",
        "outputId": "17769c4f-2338-4082-8a02-2fdd91647cd8"
      },
      "outputs": [
        {
          "name": "stdout",
          "output_type": "stream",
          "text": [
            "[array([[-0.996521  , -0.99643903, -0.99671992, ...,  0.10836935,\n",
            "        -0.79325128, -0.99619939],\n",
            "       [-0.9964318 , -0.99634516, -0.99663051, ...,  0.04846453,\n",
            "        -0.81069315, -0.99619977],\n",
            "       [-0.99634854, -0.99625716, -0.9965467 , ..., -0.01314426,\n",
            "        -0.81822194, -0.99619912],\n",
            "       ...,\n",
            "       [-0.99264356, -0.99287805, -0.99312692, ..., -0.44616181,\n",
            "        -0.80354927, -0.99212157],\n",
            "       [-0.99277439, -0.99288979, -0.99324985, ..., -0.49811487,\n",
            "        -0.77555911, -0.99222132],\n",
            "       [-0.99277439, -0.99301298, -0.99324985, ..., -0.5470932 ,\n",
            "        -0.76241559, -0.99227674]])]\n",
            "[-0.9927743945953661]\n"
          ]
        }
      ],
      "source": [
        "#Create the training data set and scaled trainig dataset\n",
        "train_data= scaled_data[0:training_data_len, : ]\n",
        "\n",
        "#Split data into x_train and y_train dataset\n",
        "x_train=[]\n",
        "y_train=[]\n",
        "\n",
        "for i in range(100, len(train_data)):\n",
        "  x_train.append(train_data[i-100:i, 0:85])\n",
        "  y_train.append(train_data[i, 0])\n",
        "  if i <= 100:\n",
        "    print(x_train)\n",
        "    print(y_train)"
      ]
    },
    {
      "cell_type": "code",
      "execution_count": null,
      "metadata": {
        "colab": {
          "background_save": true
        },
        "id": "BzHQbKSep8RF"
      },
      "outputs": [],
      "source": [
        "#Convert to numpy array\n",
        "x_train, y_train= np.array(x_train), np.array(y_train)"
      ]
    },
    {
      "cell_type": "code",
      "execution_count": null,
      "metadata": {
        "colab": {
          "background_save": true
        },
        "id": "WlbfdcSNqJto",
        "outputId": "3816a731-4da5-4644-8bcc-7cef2c763d16"
      },
      "outputs": [
        {
          "data": {
            "text/plain": [
              "(2504, 100, 85, 1)"
            ]
          },
          "execution_count": 20,
          "metadata": {},
          "output_type": "execute_result"
        }
      ],
      "source": [
        "#Reshape the data\n",
        "x_train=np.reshape(x_train, (x_train.shape[0], x_train.shape[1],x_train.shape[2],1 ))\n",
        "x_train.shape"
      ]
    },
    {
      "cell_type": "code",
      "execution_count": null,
      "metadata": {
        "colab": {
          "background_save": true
        },
        "id": "u6rTWZmCDrMx",
        "outputId": "6150c8ed-7aaa-4fb1-c4b1-76147b9881b5"
      },
      "outputs": [
        {
          "data": {
            "text/plain": [
              "array([[[-0.9964318 ],\n",
              "        [-0.99634516],\n",
              "        [-0.99663051],\n",
              "        ...,\n",
              "        [ 0.04846453],\n",
              "        [-0.81069315],\n",
              "        [-0.99619977]],\n",
              "\n",
              "       [[-0.99634854],\n",
              "        [-0.99625716],\n",
              "        [-0.9965467 ],\n",
              "        ...,\n",
              "        [-0.01314426],\n",
              "        [-0.81822194],\n",
              "        [-0.99619912]],\n",
              "\n",
              "       [[-0.9962296 ],\n",
              "        [-0.99616917],\n",
              "        [-0.99646288],\n",
              "        ...,\n",
              "        [-0.07353109],\n",
              "        [-0.81282287],\n",
              "        [-0.99617987]],\n",
              "\n",
              "       ...,\n",
              "\n",
              "       [[-0.99277439],\n",
              "        [-0.99288979],\n",
              "        [-0.99324985],\n",
              "        ...,\n",
              "        [-0.49811487],\n",
              "        [-0.77555911],\n",
              "        [-0.99222132]],\n",
              "\n",
              "       [[-0.99277439],\n",
              "        [-0.99301298],\n",
              "        [-0.99324985],\n",
              "        ...,\n",
              "        [-0.5470932 ],\n",
              "        [-0.76241559],\n",
              "        [-0.99227674]],\n",
              "\n",
              "       [[-0.99277439],\n",
              "        [-0.99301298],\n",
              "        [-0.99324985],\n",
              "        ...,\n",
              "        [-0.59305689],\n",
              "        [-0.74909567],\n",
              "        [-0.99230753]]])"
            ]
          },
          "execution_count": 21,
          "metadata": {},
          "output_type": "execute_result"
        }
      ],
      "source": [
        "x_train[1,:,:]"
      ]
    },
    {
      "cell_type": "code",
      "execution_count": null,
      "metadata": {
        "colab": {
          "background_save": true
        },
        "id": "ZSNMUwpuGddl",
        "outputId": "546473ad-f6c9-41bb-b4eb-ded99f174a40"
      },
      "outputs": [],
      "source": [
        "import numpy as np\n",
        "import matplotlib.pyplot as plt\n",
        "\n",
        "fig, ax = plt.subplots(figsize=(85, 100))\n",
        "\n",
        "min_val, max_val = -1, 1\n",
        "\n",
        "intersection_matrix = x_train[1,:,:]\n",
        "\n",
        "ax.matshow(intersection_matrix, cmap=plt.cm.Blues)\n",
        "\n",
        "for i in range(85):\n",
        "    for j in range(100):\n",
        "        c = intersection_matrix[j,i]\n",
        "        ax.text(i, j, str(c), va='center', ha='center')\n",
        "\n"
      ]
    },
    {
      "cell_type": "code",
      "execution_count": null,
      "metadata": {
        "colab": {
          "background_save": true
        },
        "id": "8wdf4iw4rRxe",
        "outputId": "24a3c209-ea57-4108-c236-481c1f2f6de7"
      },
      "outputs": [
        {
          "data": {
            "text/plain": [
              "(2504,)"
            ]
          },
          "execution_count": 22,
          "metadata": {},
          "output_type": "execute_result"
        }
      ],
      "source": [
        "y_train.shape"
      ]
    },
    {
      "cell_type": "code",
      "execution_count": null,
      "metadata": {
        "colab": {
          "background_save": true
        },
        "id": "TOnmxLSxvYF4",
        "outputId": "e774308f-e75a-460f-926d-dfc713edb4cc"
      },
      "outputs": [
        {
          "data": {
            "image/png": "[encoded data removed]",
            "text/plain": [
              "<Figure size 1400x700 with 1 Axes>"
            ]
          },
          "metadata": {},
          "output_type": "display_data"
        }
      ],
      "source": [
        "#visualizing the close price\n",
        "plt.figure(figsize=(14,7))\n",
        "plt.title('Fameli')\n",
        "plt.plot(df['close'])\n",
        "plt.xlabel('Date', fontsize=18)\n",
        "plt.ylabel('Close Price', fontsize=18)\n",
        "plt.show()"
      ]
    },
    {
      "cell_type": "markdown",
      "metadata": {
        "id": "1jCVF6zC616U"
      },
      "source": [
        "Hyper Parameter Optinmization Using Optuna"
      ]
    },
    {
      "cell_type": "code",
      "execution_count": null,
      "metadata": {
        "colab": {
          "background_save": true
        },
        "id": "WeOPT7No6-Ak",
        "outputId": "63b7903a-1063-476d-dc1a-217ebb71ce53"
      },
      "outputs": [
        {
          "name": "stdout",
          "output_type": "stream",
          "text": [
            "[array([[-0.80662139, -0.80701518, -0.81295716, ...,  0.24787554,\n",
            "        -0.39970777, -0.7873124 ],\n",
            "       [-0.80060303, -0.81139746, -0.80936416, ...,  0.27716511,\n",
            "        -0.41659692, -0.78734479],\n",
            "       [-0.80656192, -0.80992497, -0.81397974, ...,  0.30155248,\n",
            "        -0.43825676, -0.78741508],\n",
            "       ...,\n",
            "       [-0.7530746 , -0.75463895, -0.76263278, ...,  0.16156102,\n",
            "        -0.57249702, -0.72884729],\n",
            "       [-0.75006542, -0.75688582, -0.76123581, ...,  0.15222137,\n",
            "        -0.58727612, -0.72985031],\n",
            "       [-0.73925377, -0.74565731, -0.7533178 , ...,  0.15736241,\n",
            "        -0.52329472, -0.7294187 ]])]\n",
            "[-0.7290903468290594]\n"
          ]
        }
      ],
      "source": [
        "#Create the testing data set\n",
        "#Create a new array containing scaled values\n",
        "test_data=scaled_data[training_data_len: , :]\n",
        "#Create the datasets x_test and y_test\n",
        "x_test=[]\n",
        "y_test=[]\n",
        "for i in range(100, len(test_data)):\n",
        "  x_test.append(test_data[i-100:i, 0:85])\n",
        "  y_test.append(test_data[i,0])\n",
        "  if i <= 100:\n",
        "    print(x_test)\n",
        "    print(y_test)"
      ]
    },
    {
      "cell_type": "code",
      "execution_count": null,
      "metadata": {
        "colab": {
          "background_save": true
        },
        "id": "HULeEb-L7T8B"
      },
      "outputs": [],
      "source": [
        "#Convert the data into numpy array\n",
        "x_test= np.array(x_test)\n",
        "y_test= np.array(y_test)"
      ]
    },
    {
      "cell_type": "code",
      "execution_count": null,
      "metadata": {
        "colab": {
          "background_save": true
        },
        "id": "WggxPTfM7YFm",
        "outputId": "d9089cd4-52fe-482e-cd17-c5886f8c3ee7"
      },
      "outputs": [
        {
          "data": {
            "text/plain": [
              "(550, 100, 85, 1)"
            ]
          },
          "execution_count": 26,
          "metadata": {},
          "output_type": "execute_result"
        }
      ],
      "source": [
        "#Reshape the data\n",
        "x_test=np.reshape(x_test, (x_test.shape[0], x_test.shape[1],x_test.shape[2],1 ))\n",
        "x_test.shape"
      ]
    },
    {
      "cell_type": "code",
      "execution_count": null,
      "metadata": {
        "colab": {
          "background_save": true
        },
        "id": "iZvu8psp723p"
      },
      "outputs": [],
      "source": [
        "def ReshapeLayer(x):\n",
        "\n",
        "    shape = x.shape\n",
        "\n",
        "    # 1 possibility: H,W*channel\n",
        "    reshape = Reshape((shape[1],shape[2]*shape[3]))(x)\n",
        "\n",
        "    # 2 possibility: W,H*channel\n",
        "    # transpose = Permute((2,1,3))(x)\n",
        "    # reshape = Reshape((shape[1],shape[2]*shape[3]))(transpose)\n",
        "\n",
        "    return reshape"
      ]
    },
    {
      "cell_type": "code",
      "execution_count": null,
      "metadata": {
        "colab": {
          "background_save": true
        },
        "id": "ok76stdC7b8m"
      },
      "outputs": [],
      "source": [
        "opener = urllib.request.build_opener()\n",
        "opener.addheaders = [(\"User-agent\", \"Mozilla/5.0\")]\n",
        "urllib.request.install_opener(opener)"
      ]
    },
    {
      "cell_type": "code",
      "execution_count": null,
      "metadata": {
        "colab": {
          "background_save": true
        },
        "id": "x80bD79E7lYJ"
      },
      "outputs": [],
      "source": [
        "def objective(trial):\n",
        "  clear_session()\n",
        "  model = Sequential()\n",
        "\n",
        "# 2. Suggest values of the hyperparameters using a trial object.\n",
        "  model.add(Conv2D(filters=trial.suggest_categorical('filters_1', [64, 128, 256, 512]),\n",
        "               kernel_size=trial.suggest_categorical('kernel_size_1', [3, 5, 7]),\n",
        "               strides=trial.suggest_categorical('strides_1', [1, 2]),\n",
        "               activation=trial.suggest_categorical('activation_1', ['relu']),\n",
        "               input_shape=(100,85,1)))\n",
        "  model.add(Conv2D(filters=trial.suggest_categorical('filters_2', [64, 128, 256, 512]),\n",
        "               kernel_size=trial.suggest_categorical('kernel_size_2', [3, 5]),\n",
        "               strides=trial.suggest_categorical('strides_2', [1, 2]),\n",
        "               activation=trial.suggest_categorical('activation_2', ['relu'])))\n",
        "  model.add(Conv2D(filters=trial.suggest_categorical('filters_3', [64, 128, 256, 512]),\n",
        "               kernel_size=trial.suggest_categorical('kernel_size_3', [3, 5]),\n",
        "               strides=trial.suggest_categorical('strides_3', [1, 2]),\n",
        "               activation=trial.suggest_categorical('activation_3', ['relu'])))\n",
        "  model.add(Lambda(ReshapeLayer)) # <========== pass from 4D to 3D\n",
        "  model.add(Bidirectional(LSTM(100, activation=trial.suggest_categorical('activation_4', ['relu', 'tanh']), return_sequences=False)))\n",
        "  model.add(Dense(1, activation='linear'))\n",
        "\n",
        "# We compile our model with a sampled learning rate.\n",
        "  lr = trial.suggest_float('lr', 1e-3, 1e-2, log=True)\n",
        "  opt = keras.optimizers.Adam(learning_rate=lr)\n",
        "  model.compile(loss='mse', optimizer=opt, metrics=['mae'])\n",
        "\n",
        "  model.fit(\n",
        "        x_train,\n",
        "        y_train,\n",
        "        shuffle=True,\n",
        "        batch_size=trial.suggest_categorical('batch_size', [16, 32, 64, 128]),\n",
        "        epochs=trial.suggest_categorical('epochs', [10, 20, 30, 40, 50 ]),\n",
        "        validation_split=trial.suggest_categorical('val_split', [0.3, 0.2])\n",
        "    )\n",
        "\n",
        "    # Evaluate the model accuracy on the validation set.\n",
        "  score = model.evaluate(x_test, y_test, verbose=0)\n",
        "  return score[1]"
      ]
    },
    {
      "cell_type": "code",
      "execution_count": null,
      "metadata": {
        "colab": {
          "background_save": true
        },
        "id": "E6N4G59e7shg",
        "outputId": "affa69ed-8e6d-4592-e911-92b611bf74cc"
      },
      "outputs": [
        {
          "name": "stderr",
          "output_type": "stream",
          "text": [
            "[I 2024-01-23 13:49:42,522] A new study created in memory with name: no-name-8a4fc35d-7069-49e5-9f0f-6af99a1cb5bb\n"
          ]
        },
        {
          "name": "stdout",
          "output_type": "stream",
          "text": [
            "Epoch 1/20\n",
            "14/14 [==============================] - 11s 209ms/step - loss: 0.2258 - mae: 0.3899 - val_loss: 0.0306 - val_mae: 0.1692\n",
            "Epoch 2/20\n",
            "14/14 [==============================] - 1s 45ms/step - loss: 0.0180 - mae: 0.1142 - val_loss: 0.0058 - val_mae: 0.0681\n",
            "Epoch 3/20\n",
            "14/14 [==============================] - 1s 40ms/step - loss: 0.0039 - mae: 0.0532 - val_loss: 0.0019 - val_mae: 0.0363\n",
            "Epoch 4/20\n",
            "14/14 [==============================] - 1s 40ms/step - loss: 0.0011 - mae: 0.0275 - val_loss: 0.0016 - val_mae: 0.0311\n",
            "Epoch 5/20\n",
            "14/14 [==============================] - 1s 40ms/step - loss: 4.2950e-04 - mae: 0.0168 - val_loss: 0.0018 - val_mae: 0.0312\n",
            "Epoch 6/20\n",
            "14/14 [==============================] - 1s 46ms/step - loss: 2.3826e-04 - mae: 0.0124 - val_loss: 0.0021 - val_mae: 0.0329\n",
            "Epoch 7/20\n",
            "14/14 [==============================] - 1s 38ms/step - loss: 1.6662e-04 - mae: 0.0101 - val_loss: 0.0024 - val_mae: 0.0357\n",
            "Epoch 8/20\n",
            "14/14 [==============================] - 1s 53ms/step - loss: 1.4124e-04 - mae: 0.0093 - val_loss: 0.0022 - val_mae: 0.0340\n",
            "Epoch 9/20\n",
            "14/14 [==============================] - 1s 41ms/step - loss: 1.2822e-04 - mae: 0.0089 - val_loss: 0.0021 - val_mae: 0.0326\n",
            "Epoch 10/20\n",
            "14/14 [==============================] - 1s 53ms/step - loss: 1.2206e-04 - mae: 0.0088 - val_loss: 0.0021 - val_mae: 0.0330\n",
            "Epoch 11/20\n",
            "14/14 [==============================] - 1s 39ms/step - loss: 1.1345e-04 - mae: 0.0084 - val_loss: 0.0020 - val_mae: 0.0317\n",
            "Epoch 12/20\n",
            "14/14 [==============================] - 1s 54ms/step - loss: 1.0794e-04 - mae: 0.0082 - val_loss: 0.0020 - val_mae: 0.0313\n",
            "Epoch 13/20\n",
            "14/14 [==============================] - 1s 38ms/step - loss: 1.0338e-04 - mae: 0.0081 - val_loss: 0.0021 - val_mae: 0.0332\n",
            "Epoch 14/20\n",
            "14/14 [==============================] - 1s 37ms/step - loss: 1.0158e-04 - mae: 0.0080 - val_loss: 0.0019 - val_mae: 0.0307\n",
            "Epoch 15/20\n",
            "14/14 [==============================] - 1s 37ms/step - loss: 9.6444e-05 - mae: 0.0078 - val_loss: 0.0021 - val_mae: 0.0327\n",
            "Epoch 16/20\n",
            "14/14 [==============================] - 1s 37ms/step - loss: 8.8615e-05 - mae: 0.0075 - val_loss: 0.0020 - val_mae: 0.0315\n",
            "Epoch 17/20\n",
            "14/14 [==============================] - 1s 37ms/step - loss: 8.4446e-05 - mae: 0.0073 - val_loss: 0.0018 - val_mae: 0.0299\n",
            "Epoch 18/20\n",
            "14/14 [==============================] - 1s 37ms/step - loss: 8.0244e-05 - mae: 0.0071 - val_loss: 0.0019 - val_mae: 0.0308\n",
            "Epoch 19/20\n",
            "14/14 [==============================] - 1s 37ms/step - loss: 7.6311e-05 - mae: 0.0070 - val_loss: 0.0019 - val_mae: 0.0312\n",
            "Epoch 20/20\n",
            "14/14 [==============================] - 1s 37ms/step - loss: 7.2700e-05 - mae: 0.0068 - val_loss: 0.0018 - val_mae: 0.0300\n"
          ]
        },
        {
          "name": "stderr",
          "output_type": "stream",
          "text": [
            "[I 2024-01-23 13:50:10,136] Trial 0 finished with value: 0.9384937882423401 and parameters: {'filters_1': 64, 'kernel_size_1': 7, 'strides_1': 2, 'activation_1': 'relu', 'filters_2': 256, 'kernel_size_2': 3, 'strides_2': 2, 'activation_2': 'relu', 'filters_3': 128, 'kernel_size_3': 3, 'strides_3': 2, 'activation_3': 'relu', 'activation_4': 'tanh', 'lr': 0.001032139641826403, 'batch_size': 128, 'epochs': 20, 'val_split': 0.3}. Best is trial 0 with value: 0.9384937882423401.\n",
            "WARNING:tensorflow:Layer lstm will not use cuDNN kernels since it doesn't meet the criteria. It will use a generic GPU kernel as fallback when running on GPU.\n",
            "WARNING:tensorflow:Layer lstm will not use cuDNN kernels since it doesn't meet the criteria. It will use a generic GPU kernel as fallback when running on GPU.\n",
            "WARNING:tensorflow:Layer lstm will not use cuDNN kernels since it doesn't meet the criteria. It will use a generic GPU kernel as fallback when running on GPU.\n"
          ]
        },
        {
          "name": "stdout",
          "output_type": "stream",
          "text": [
            "Epoch 1/10\n",
            "32/32 [==============================] - 54s 949ms/step - loss: 12220755968.0000 - mae: 62394.2109 - val_loss: 2844740352.0000 - val_mae: 46246.1719\n",
            "Epoch 2/10\n",
            "32/32 [==============================] - 19s 596ms/step - loss: 3420892416.0000 - mae: 40750.5039 - val_loss: 1485719424.0000 - val_mae: 28164.2949\n",
            "Epoch 3/10\n",
            "32/32 [==============================] - 19s 603ms/step - loss: 1003102400.0000 - mae: 23739.5098 - val_loss: 152884752.0000 - val_mae: 8417.8652\n",
            "Epoch 4/10\n",
            "32/32 [==============================] - 19s 600ms/step - loss: 243834256.0000 - mae: 10923.0039 - val_loss: 109907976.0000 - val_mae: 8394.4893\n",
            "Epoch 5/10\n",
            "32/32 [==============================] - 19s 604ms/step - loss: 381054976.0000 - mae: 14379.0801 - val_loss: 257440976.0000 - val_mae: 11697.7402\n",
            "Epoch 6/10\n",
            "32/32 [==============================] - 20s 613ms/step - loss: 2391099648.0000 - mae: 27115.5566 - val_loss: 484337312.0000 - val_mae: 21052.5898\n",
            "Epoch 7/10\n",
            "32/32 [==============================] - 19s 606ms/step - loss: 170695584.0000 - mae: 10999.1875 - val_loss: 41396836.0000 - val_mae: 6041.3062\n",
            "Epoch 8/10\n",
            "32/32 [==============================] - 19s 606ms/step - loss: 18513728.0000 - mae: 3389.0693 - val_loss: 17501402.0000 - val_mae: 3684.9836\n",
            "Epoch 9/10\n",
            "32/32 [==============================] - 20s 623ms/step - loss: 10590408.0000 - mae: 2487.6211 - val_loss: 12667258.0000 - val_mae: 3075.0300\n",
            "Epoch 10/10\n",
            "32/32 [==============================] - 19s 610ms/step - loss: 4839297.5000 - mae: 1680.4375 - val_loss: 1087587.3750 - val_mae: 720.5527\n"
          ]
        },
        {
          "name": "stderr",
          "output_type": "stream",
          "text": [
            "[I 2024-01-23 13:54:41,558] Trial 1 finished with value: 948.8131103515625 and parameters: {'filters_1': 256, 'kernel_size_1': 3, 'strides_1': 1, 'activation_1': 'relu', 'filters_2': 512, 'kernel_size_2': 3, 'strides_2': 2, 'activation_2': 'relu', 'filters_3': 256, 'kernel_size_3': 5, 'strides_3': 1, 'activation_3': 'relu', 'activation_4': 'relu', 'lr': 0.004830149713786448, 'batch_size': 64, 'epochs': 10, 'val_split': 0.2}. Best is trial 0 with value: 0.9384937882423401.\n"
          ]
        },
        {
          "name": "stdout",
          "output_type": "stream",
          "text": [
            "Epoch 1/40\n",
            "14/14 [==============================] - 16s 562ms/step - loss: 3.2387 - mae: 1.0686 - val_loss: 0.0443 - val_mae: 0.2050\n",
            "Epoch 2/40\n",
            "14/14 [==============================] - 3s 188ms/step - loss: 0.0231 - mae: 0.1309 - val_loss: 0.0045 - val_mae: 0.0482\n",
            "Epoch 3/40\n",
            "14/14 [==============================] - 3s 184ms/step - loss: 0.0023 - mae: 0.0418 - val_loss: 0.0149 - val_mae: 0.1125\n",
            "Epoch 4/40\n",
            "14/14 [==============================] - 3s 184ms/step - loss: 0.0020 - mae: 0.0393 - val_loss: 0.0064 - val_mae: 0.0637\n",
            "Epoch 5/40\n",
            "14/14 [==============================] - 3s 186ms/step - loss: 3.7090e-04 - mae: 0.0161 - val_loss: 0.0039 - val_mae: 0.0428\n",
            "Epoch 6/40\n",
            "14/14 [==============================] - 3s 186ms/step - loss: 3.7888e-04 - mae: 0.0165 - val_loss: 0.0051 - val_mae: 0.0529\n",
            "Epoch 7/40\n",
            "14/14 [==============================] - 3s 190ms/step - loss: 2.8932e-04 - mae: 0.0143 - val_loss: 0.0056 - val_mae: 0.0572\n",
            "Epoch 8/40\n",
            "14/14 [==============================] - 3s 184ms/step - loss: 2.8529e-04 - mae: 0.0142 - val_loss: 0.0052 - val_mae: 0.0540\n",
            "Epoch 9/40\n",
            "14/14 [==============================] - 3s 184ms/step - loss: 2.8493e-04 - mae: 0.0142 - val_loss: 0.0051 - val_mae: 0.0531\n",
            "Epoch 10/40\n",
            "14/14 [==============================] - 3s 185ms/step - loss: 2.8256e-04 - mae: 0.0141 - val_loss: 0.0053 - val_mae: 0.0547\n",
            "Epoch 11/40\n",
            "14/14 [==============================] - 3s 186ms/step - loss: 2.8274e-04 - mae: 0.0141 - val_loss: 0.0052 - val_mae: 0.0540\n",
            "Epoch 12/40\n",
            "14/14 [==============================] - 3s 189ms/step - loss: 2.8262e-04 - mae: 0.0141 - val_loss: 0.0052 - val_mae: 0.0543\n",
            "Epoch 13/40\n",
            "14/14 [==============================] - 3s 187ms/step - loss: 2.8248e-04 - mae: 0.0141 - val_loss: 0.0051 - val_mae: 0.0537\n",
            "Epoch 14/40\n",
            "14/14 [==============================] - 3s 185ms/step - loss: 2.8275e-04 - mae: 0.0141 - val_loss: 0.0052 - val_mae: 0.0542\n",
            "Epoch 15/40\n",
            "14/14 [==============================] - 3s 187ms/step - loss: 2.8235e-04 - mae: 0.0141 - val_loss: 0.0052 - val_mae: 0.0538\n",
            "Epoch 16/40\n",
            "14/14 [==============================] - 3s 185ms/step - loss: 2.8252e-04 - mae: 0.0141 - val_loss: 0.0052 - val_mae: 0.0542\n",
            "Epoch 17/40\n",
            "14/14 [==============================] - 3s 190ms/step - loss: 2.8239e-04 - mae: 0.0141 - val_loss: 0.0052 - val_mae: 0.0538\n",
            "Epoch 18/40\n",
            "14/14 [==============================] - 3s 190ms/step - loss: 2.8249e-04 - mae: 0.0141 - val_loss: 0.0052 - val_mae: 0.0541\n",
            "Epoch 19/40\n",
            "14/14 [==============================] - 3s 186ms/step - loss: 2.8249e-04 - mae: 0.0141 - val_loss: 0.0052 - val_mae: 0.0540\n",
            "Epoch 20/40\n",
            "14/14 [==============================] - 3s 188ms/step - loss: 2.8316e-04 - mae: 0.0141 - val_loss: 0.0052 - val_mae: 0.0543\n",
            "Epoch 21/40\n",
            "14/14 [==============================] - 3s 188ms/step - loss: 2.8238e-04 - mae: 0.0141 - val_loss: 0.0051 - val_mae: 0.0537\n",
            "Epoch 22/40\n",
            "14/14 [==============================] - 3s 186ms/step - loss: 2.8290e-04 - mae: 0.0141 - val_loss: 0.0052 - val_mae: 0.0544\n",
            "Epoch 23/40\n",
            "14/14 [==============================] - 3s 192ms/step - loss: 2.8240e-04 - mae: 0.0141 - val_loss: 0.0052 - val_mae: 0.0539\n",
            "Epoch 24/40\n",
            "14/14 [==============================] - 3s 190ms/step - loss: 2.8252e-04 - mae: 0.0141 - val_loss: 0.0052 - val_mae: 0.0540\n",
            "Epoch 25/40\n",
            "14/14 [==============================] - 3s 187ms/step - loss: 2.8259e-04 - mae: 0.0141 - val_loss: 0.0052 - val_mae: 0.0540\n",
            "Epoch 26/40\n",
            "14/14 [==============================] - 3s 186ms/step - loss: 2.8250e-04 - mae: 0.0141 - val_loss: 0.0052 - val_mae: 0.0545\n",
            "Epoch 27/40\n",
            "14/14 [==============================] - 3s 189ms/step - loss: 2.8240e-04 - mae: 0.0141 - val_loss: 0.0052 - val_mae: 0.0538\n",
            "Epoch 28/40\n",
            "14/14 [==============================] - 3s 191ms/step - loss: 2.8252e-04 - mae: 0.0141 - val_loss: 0.0052 - val_mae: 0.0542\n",
            "Epoch 29/40\n",
            "14/14 [==============================] - 3s 192ms/step - loss: 2.8319e-04 - mae: 0.0141 - val_loss: 0.0052 - val_mae: 0.0540\n",
            "Epoch 30/40\n",
            "14/14 [==============================] - 3s 187ms/step - loss: 2.8352e-04 - mae: 0.0141 - val_loss: 0.0052 - val_mae: 0.0541\n",
            "Epoch 31/40\n",
            "14/14 [==============================] - 3s 188ms/step - loss: 2.8281e-04 - mae: 0.0141 - val_loss: 0.0052 - val_mae: 0.0542\n",
            "Epoch 32/40\n",
            "14/14 [==============================] - 3s 188ms/step - loss: 2.8263e-04 - mae: 0.0141 - val_loss: 0.0052 - val_mae: 0.0540\n",
            "Epoch 33/40\n",
            "14/14 [==============================] - 3s 189ms/step - loss: 2.8266e-04 - mae: 0.0141 - val_loss: 0.0052 - val_mae: 0.0540\n",
            "Epoch 34/40\n",
            "14/14 [==============================] - 3s 194ms/step - loss: 2.8290e-04 - mae: 0.0141 - val_loss: 0.0052 - val_mae: 0.0541\n",
            "Epoch 35/40\n",
            "14/14 [==============================] - 3s 189ms/step - loss: 2.8371e-04 - mae: 0.0141 - val_loss: 0.0052 - val_mae: 0.0544\n",
            "Epoch 36/40\n",
            "14/14 [==============================] - 3s 188ms/step - loss: 2.8320e-04 - mae: 0.0141 - val_loss: 0.0051 - val_mae: 0.0537\n",
            "Epoch 37/40\n",
            "14/14 [==============================] - 3s 188ms/step - loss: 2.8310e-04 - mae: 0.0141 - val_loss: 0.0052 - val_mae: 0.0543\n",
            "Epoch 38/40\n",
            "14/14 [==============================] - 3s 188ms/step - loss: 2.8244e-04 - mae: 0.0141 - val_loss: 0.0052 - val_mae: 0.0538\n",
            "Epoch 39/40\n",
            "14/14 [==============================] - 3s 192ms/step - loss: 2.8268e-04 - mae: 0.0141 - val_loss: 0.0052 - val_mae: 0.0543\n",
            "Epoch 40/40\n",
            "14/14 [==============================] - 3s 191ms/step - loss: 2.8262e-04 - mae: 0.0141 - val_loss: 0.0052 - val_mae: 0.0538\n"
          ]
        },
        {
          "name": "stderr",
          "output_type": "stream",
          "text": [
            "[I 2024-01-23 13:57:09,080] Trial 2 finished with value: 1.1845535039901733 and parameters: {'filters_1': 512, 'kernel_size_1': 5, 'strides_1': 2, 'activation_1': 'relu', 'filters_2': 128, 'kernel_size_2': 5, 'strides_2': 2, 'activation_2': 'relu', 'filters_3': 128, 'kernel_size_3': 3, 'strides_3': 2, 'activation_3': 'relu', 'activation_4': 'tanh', 'lr': 0.002937297693515366, 'batch_size': 128, 'epochs': 40, 'val_split': 0.3}. Best is trial 0 with value: 0.9384937882423401.\n",
            "WARNING:tensorflow:Layer lstm will not use cuDNN kernels since it doesn't meet the criteria. It will use a generic GPU kernel as fallback when running on GPU.\n",
            "WARNING:tensorflow:Layer lstm will not use cuDNN kernels since it doesn't meet the criteria. It will use a generic GPU kernel as fallback when running on GPU.\n",
            "WARNING:tensorflow:Layer lstm will not use cuDNN kernels since it doesn't meet the criteria. It will use a generic GPU kernel as fallback when running on GPU.\n"
          ]
        },
        {
          "name": "stdout",
          "output_type": "stream",
          "text": [
            "Epoch 1/50\n",
            "126/126 [==============================] - 29s 179ms/step - loss: nan - mae: nan - val_loss: nan - val_mae: nan\n",
            "Epoch 2/50\n",
            "126/126 [==============================] - 19s 149ms/step - loss: nan - mae: nan - val_loss: nan - val_mae: nan\n",
            "Epoch 3/50\n",
            "126/126 [==============================] - 20s 157ms/step - loss: nan - mae: nan - val_loss: nan - val_mae: nan\n",
            "Epoch 4/50\n",
            "126/126 [==============================] - 20s 156ms/step - loss: nan - mae: nan - val_loss: nan - val_mae: nan\n",
            "Epoch 5/50\n",
            "126/126 [==============================] - 19s 149ms/step - loss: nan - mae: nan - val_loss: nan - val_mae: nan\n",
            "Epoch 6/50\n",
            "126/126 [==============================] - 19s 153ms/step - loss: nan - mae: nan - val_loss: nan - val_mae: nan\n",
            "Epoch 7/50\n",
            "126/126 [==============================] - 20s 160ms/step - loss: nan - mae: nan - val_loss: nan - val_mae: nan\n",
            "Epoch 8/50\n",
            "126/126 [==============================] - 19s 147ms/step - loss: nan - mae: nan - val_loss: nan - val_mae: nan\n",
            "Epoch 9/50\n",
            "126/126 [==============================] - 19s 150ms/step - loss: nan - mae: nan - val_loss: nan - val_mae: nan\n",
            "Epoch 10/50\n",
            "126/126 [==============================] - 21s 165ms/step - loss: nan - mae: nan - val_loss: nan - val_mae: nan\n",
            "Epoch 11/50\n",
            "126/126 [==============================] - 19s 150ms/step - loss: nan - mae: nan - val_loss: nan - val_mae: nan\n",
            "Epoch 12/50\n",
            "126/126 [==============================] - 19s 149ms/step - loss: nan - mae: nan - val_loss: nan - val_mae: nan\n",
            "Epoch 13/50\n",
            "126/126 [==============================] - 21s 165ms/step - loss: nan - mae: nan - val_loss: nan - val_mae: nan\n",
            "Epoch 14/50\n",
            "126/126 [==============================] - 19s 149ms/step - loss: nan - mae: nan - val_loss: nan - val_mae: nan\n",
            "Epoch 15/50\n",
            "126/126 [==============================] - 19s 150ms/step - loss: nan - mae: nan - val_loss: nan - val_mae: nan\n",
            "Epoch 16/50\n",
            "126/126 [==============================] - 21s 166ms/step - loss: nan - mae: nan - val_loss: nan - val_mae: nan\n",
            "Epoch 17/50\n",
            "126/126 [==============================] - 19s 149ms/step - loss: nan - mae: nan - val_loss: nan - val_mae: nan\n",
            "Epoch 18/50\n",
            "126/126 [==============================] - 19s 148ms/step - loss: nan - mae: nan - val_loss: nan - val_mae: nan\n",
            "Epoch 19/50\n",
            "126/126 [==============================] - 21s 165ms/step - loss: nan - mae: nan - val_loss: nan - val_mae: nan\n",
            "Epoch 20/50\n",
            "126/126 [==============================] - 19s 149ms/step - loss: nan - mae: nan - val_loss: nan - val_mae: nan\n",
            "Epoch 21/50\n",
            "126/126 [==============================] - 19s 149ms/step - loss: nan - mae: nan - val_loss: nan - val_mae: nan\n",
            "Epoch 22/50\n",
            "126/126 [==============================] - 20s 160ms/step - loss: nan - mae: nan - val_loss: nan - val_mae: nan\n",
            "Epoch 23/50\n",
            "126/126 [==============================] - 19s 150ms/step - loss: nan - mae: nan - val_loss: nan - val_mae: nan\n",
            "Epoch 24/50\n",
            "126/126 [==============================] - 19s 149ms/step - loss: nan - mae: nan - val_loss: nan - val_mae: nan\n",
            "Epoch 25/50\n",
            "126/126 [==============================] - 20s 161ms/step - loss: nan - mae: nan - val_loss: nan - val_mae: nan\n",
            "Epoch 26/50\n",
            "126/126 [==============================] - 19s 151ms/step - loss: nan - mae: nan - val_loss: nan - val_mae: nan\n",
            "Epoch 27/50\n",
            "126/126 [==============================] - 19s 150ms/step - loss: nan - mae: nan - val_loss: nan - val_mae: nan\n",
            "Epoch 28/50\n",
            "126/126 [==============================] - 20s 162ms/step - loss: nan - mae: nan - val_loss: nan - val_mae: nan\n",
            "Epoch 29/50\n",
            "126/126 [==============================] - 19s 151ms/step - loss: nan - mae: nan - val_loss: nan - val_mae: nan\n",
            "Epoch 30/50\n",
            "126/126 [==============================] - 19s 148ms/step - loss: nan - mae: nan - val_loss: nan - val_mae: nan\n",
            "Epoch 31/50\n",
            "126/126 [==============================] - 19s 154ms/step - loss: nan - mae: nan - val_loss: nan - val_mae: nan\n",
            "Epoch 32/50\n",
            "126/126 [==============================] - 20s 158ms/step - loss: nan - mae: nan - val_loss: nan - val_mae: nan\n",
            "Epoch 33/50\n",
            "126/126 [==============================] - 19s 148ms/step - loss: nan - mae: nan - val_loss: nan - val_mae: nan\n",
            "Epoch 34/50\n",
            "126/126 [==============================] - 19s 154ms/step - loss: nan - mae: nan - val_loss: nan - val_mae: nan\n",
            "Epoch 35/50\n",
            "126/126 [==============================] - 20s 157ms/step - loss: nan - mae: nan - val_loss: nan - val_mae: nan\n",
            "Epoch 36/50\n",
            "126/126 [==============================] - 19s 149ms/step - loss: nan - mae: nan - val_loss: nan - val_mae: nan\n",
            "Epoch 37/50\n",
            "126/126 [==============================] - 19s 154ms/step - loss: nan - mae: nan - val_loss: nan - val_mae: nan\n",
            "Epoch 38/50\n",
            "126/126 [==============================] - 20s 158ms/step - loss: nan - mae: nan - val_loss: nan - val_mae: nan\n",
            "Epoch 39/50\n",
            "126/126 [==============================] - 19s 148ms/step - loss: nan - mae: nan - val_loss: nan - val_mae: nan\n",
            "Epoch 40/50\n",
            "126/126 [==============================] - 19s 149ms/step - loss: nan - mae: nan - val_loss: nan - val_mae: nan\n",
            "Epoch 41/50\n",
            "126/126 [==============================] - 21s 164ms/step - loss: nan - mae: nan - val_loss: nan - val_mae: nan\n",
            "Epoch 42/50\n",
            "126/126 [==============================] - 19s 147ms/step - loss: nan - mae: nan - val_loss: nan - val_mae: nan\n",
            "Epoch 43/50\n",
            "126/126 [==============================] - 19s 148ms/step - loss: nan - mae: nan - val_loss: nan - val_mae: nan\n",
            "Epoch 44/50\n",
            "126/126 [==============================] - 20s 161ms/step - loss: nan - mae: nan - val_loss: nan - val_mae: nan\n",
            "Epoch 45/50\n",
            "126/126 [==============================] - 19s 147ms/step - loss: nan - mae: nan - val_loss: nan - val_mae: nan\n",
            "Epoch 46/50\n",
            "126/126 [==============================] - 19s 148ms/step - loss: nan - mae: nan - val_loss: nan - val_mae: nan\n",
            "Epoch 47/50\n",
            "126/126 [==============================] - 20s 159ms/step - loss: nan - mae: nan - val_loss: nan - val_mae: nan\n",
            "Epoch 48/50\n",
            "126/126 [==============================] - 19s 152ms/step - loss: nan - mae: nan - val_loss: nan - val_mae: nan\n",
            "Epoch 49/50\n",
            "126/126 [==============================] - 19s 149ms/step - loss: nan - mae: nan - val_loss: nan - val_mae: nan\n",
            "Epoch 50/50\n",
            "126/126 [==============================] - 19s 151ms/step - loss: nan - mae: nan - val_loss: nan - val_mae: nan\n"
          ]
        },
        {
          "name": "stderr",
          "output_type": "stream",
          "text": [
            "[W 2024-01-23 14:13:35,949] Trial 3 failed with parameters: {'filters_1': 64, 'kernel_size_1': 5, 'strides_1': 1, 'activation_1': 'relu', 'filters_2': 512, 'kernel_size_2': 3, 'strides_2': 2, 'activation_2': 'relu', 'filters_3': 128, 'kernel_size_3': 5, 'strides_3': 1, 'activation_3': 'relu', 'activation_4': 'relu', 'lr': 0.00853621615462242, 'batch_size': 16, 'epochs': 50, 'val_split': 0.2} because of the following error: The value nan is not acceptable.\n",
            "[W 2024-01-23 14:13:35,950] Trial 3 failed with value nan.\n",
            "WARNING:tensorflow:Layer lstm will not use cuDNN kernels since it doesn't meet the criteria. It will use a generic GPU kernel as fallback when running on GPU.\n",
            "WARNING:tensorflow:Layer lstm will not use cuDNN kernels since it doesn't meet the criteria. It will use a generic GPU kernel as fallback when running on GPU.\n",
            "WARNING:tensorflow:Layer lstm will not use cuDNN kernels since it doesn't meet the criteria. It will use a generic GPU kernel as fallback when running on GPU.\n"
          ]
        },
        {
          "name": "stdout",
          "output_type": "stream",
          "text": [
            "Epoch 1/40\n",
            "126/126 [==============================] - 16s 84ms/step - loss: 119719136.0000 - mae: 5509.4985 - val_loss: 491546.7812 - val_mae: 587.6531\n",
            "Epoch 2/40\n",
            "126/126 [==============================] - 10s 78ms/step - loss: 210476.0938 - mae: 362.7296 - val_loss: 220228.5625 - val_mae: 368.0158\n",
            "Epoch 3/40\n",
            "126/126 [==============================] - 11s 85ms/step - loss: 1481587.2500 - mae: 653.8198 - val_loss: 1101119.7500 - val_mae: 884.6882\n",
            "Epoch 4/40\n",
            "126/126 [==============================] - 10s 80ms/step - loss: 502945.9688 - mae: 510.9092 - val_loss: 283224.3750 - val_mae: 417.8326\n",
            "Epoch 5/40\n",
            "126/126 [==============================] - 9s 72ms/step - loss: 168728.6250 - mae: 319.8628 - val_loss: 142723.3750 - val_mae: 288.2863\n",
            "Epoch 6/40\n",
            "126/126 [==============================] - 11s 86ms/step - loss: 131901.7031 - mae: 281.2369 - val_loss: 84423.3359 - val_mae: 209.8316\n",
            "Epoch 7/40\n",
            "126/126 [==============================] - 10s 83ms/step - loss: 127800.1406 - mae: 273.7832 - val_loss: 86856.7578 - val_mae: 218.7964\n",
            "Epoch 8/40\n",
            "126/126 [==============================] - 9s 68ms/step - loss: 119821.2734 - mae: 271.3363 - val_loss: 86283.5469 - val_mae: 224.6110\n",
            "Epoch 9/40\n",
            "126/126 [==============================] - 11s 85ms/step - loss: 120772.6719 - mae: 267.9683 - val_loss: 63575.3359 - val_mae: 179.7251\n",
            "Epoch 10/40\n",
            "126/126 [==============================] - 11s 87ms/step - loss: 103935.3438 - mae: 249.2379 - val_loss: 215329.0000 - val_mae: 419.2531\n",
            "Epoch 11/40\n",
            "126/126 [==============================] - 9s 68ms/step - loss: 91567.5547 - mae: 237.5692 - val_loss: 74121.1641 - val_mae: 227.2776\n",
            "Epoch 12/40\n",
            "126/126 [==============================] - 11s 84ms/step - loss: 62238.9609 - mae: 191.0669 - val_loss: 98984.1875 - val_mae: 279.8249\n",
            "Epoch 13/40\n",
            "126/126 [==============================] - 11s 85ms/step - loss: 54048.0781 - mae: 177.0435 - val_loss: 58206.8438 - val_mae: 209.3389\n",
            "Epoch 14/40\n",
            "126/126 [==============================] - 8s 67ms/step - loss: 50903.6680 - mae: 166.8857 - val_loss: 28776.3789 - val_mae: 118.8402\n",
            "Epoch 15/40\n",
            "126/126 [==============================] - 11s 85ms/step - loss: 48658.7109 - mae: 170.1044 - val_loss: 28971.3301 - val_mae: 137.1609\n",
            "Epoch 16/40\n",
            "126/126 [==============================] - 11s 85ms/step - loss: 44309.4258 - mae: 161.2048 - val_loss: 69267.1250 - val_mae: 239.4692\n",
            "Epoch 17/40\n",
            "126/126 [==============================] - 9s 68ms/step - loss: 41288.5859 - mae: 158.9001 - val_loss: 68487.9688 - val_mae: 221.5264\n",
            "Epoch 18/40\n",
            "126/126 [==============================] - 11s 84ms/step - loss: 39552.5352 - mae: 152.2899 - val_loss: 42546.8047 - val_mae: 165.7677\n",
            "Epoch 19/40\n",
            "126/126 [==============================] - 11s 85ms/step - loss: 31933.0918 - mae: 138.4500 - val_loss: 17138.2539 - val_mae: 98.9726\n",
            "Epoch 20/40\n",
            "126/126 [==============================] - 9s 70ms/step - loss: 30836.2695 - mae: 139.0544 - val_loss: 60428.0273 - val_mae: 213.6325\n",
            "Epoch 21/40\n",
            "126/126 [==============================] - 10s 83ms/step - loss: 35527.9336 - mae: 148.0257 - val_loss: 14428.4336 - val_mae: 91.7808\n",
            "Epoch 22/40\n",
            "126/126 [==============================] - 11s 85ms/step - loss: 37183.1758 - mae: 148.4376 - val_loss: 63421.5586 - val_mae: 225.7759\n",
            "Epoch 23/40\n",
            "126/126 [==============================] - 9s 75ms/step - loss: 31441.5859 - mae: 141.8440 - val_loss: 21680.2656 - val_mae: 120.6311\n",
            "Epoch 24/40\n",
            "126/126 [==============================] - 10s 77ms/step - loss: 28898.0938 - mae: 136.3862 - val_loss: 17502.9473 - val_mae: 105.9352\n",
            "Epoch 25/40\n",
            "126/126 [==============================] - 11s 85ms/step - loss: 22854.2910 - mae: 120.1801 - val_loss: 12105.7490 - val_mae: 87.6778\n",
            "Epoch 26/40\n",
            "126/126 [==============================] - 10s 78ms/step - loss: 16105.3467 - mae: 96.6988 - val_loss: 47764.8906 - val_mae: 198.9340\n",
            "Epoch 27/40\n",
            "126/126 [==============================] - 9s 74ms/step - loss: 21640.4805 - mae: 120.5987 - val_loss: 87023.7188 - val_mae: 283.0243\n",
            "Epoch 28/40\n",
            "126/126 [==============================] - 11s 87ms/step - loss: 17530.1582 - mae: 103.4469 - val_loss: 6181.7114 - val_mae: 57.7757\n",
            "Epoch 29/40\n",
            "126/126 [==============================] - 11s 87ms/step - loss: 16086.2393 - mae: 100.7758 - val_loss: 11876.6973 - val_mae: 89.2187\n",
            "Epoch 30/40\n",
            "126/126 [==============================] - 9s 70ms/step - loss: 18587.7871 - mae: 108.1962 - val_loss: 5760.9229 - val_mae: 55.9899\n",
            "Epoch 31/40\n",
            "126/126 [==============================] - 11s 87ms/step - loss: 12893.6504 - mae: 87.3654 - val_loss: 5692.8018 - val_mae: 55.0902\n",
            "Epoch 32/40\n",
            "126/126 [==============================] - 11s 86ms/step - loss: 22275.0371 - mae: 117.7652 - val_loss: 49684.2070 - val_mae: 209.6531\n",
            "Epoch 33/40\n",
            "126/126 [==============================] - 9s 68ms/step - loss: 19476.2734 - mae: 109.5130 - val_loss: 12538.3428 - val_mae: 97.4650\n",
            "Epoch 34/40\n",
            "126/126 [==============================] - 11s 86ms/step - loss: 16964.6562 - mae: 100.9005 - val_loss: 5473.2734 - val_mae: 54.8598\n",
            "Epoch 35/40\n",
            "126/126 [==============================] - 11s 87ms/step - loss: 18138.3281 - mae: 107.5438 - val_loss: 17159.0078 - val_mae: 118.5472\n",
            "Epoch 36/40\n",
            "126/126 [==============================] - 9s 72ms/step - loss: 15787.4971 - mae: 99.0536 - val_loss: 14885.7520 - val_mae: 111.0121\n",
            "Epoch 37/40\n",
            "126/126 [==============================] - 10s 80ms/step - loss: 16276.0371 - mae: 102.8619 - val_loss: 9197.0869 - val_mae: 83.6789\n",
            "Epoch 38/40\n",
            "126/126 [==============================] - 11s 86ms/step - loss: 7133.9990 - mae: 64.7954 - val_loss: 9465.2646 - val_mae: 82.6333\n",
            "Epoch 39/40\n",
            "126/126 [==============================] - 9s 75ms/step - loss: 21663.1055 - mae: 118.8934 - val_loss: 9399.6621 - val_mae: 84.9901\n",
            "Epoch 40/40\n",
            "126/126 [==============================] - 10s 78ms/step - loss: 11521.0156 - mae: 84.0459 - val_loss: 4064.6023 - val_mae: 44.7250\n"
          ]
        },
        {
          "name": "stderr",
          "output_type": "stream",
          "text": [
            "[I 2024-01-23 14:21:02,871] Trial 4 finished with value: 82.6575927734375 and parameters: {'filters_1': 256, 'kernel_size_1': 3, 'strides_1': 2, 'activation_1': 'relu', 'filters_2': 128, 'kernel_size_2': 5, 'strides_2': 1, 'activation_2': 'relu', 'filters_3': 128, 'kernel_size_3': 3, 'strides_3': 2, 'activation_3': 'relu', 'activation_4': 'relu', 'lr': 0.005711447774056437, 'batch_size': 16, 'epochs': 40, 'val_split': 0.2}. Best is trial 0 with value: 0.9384937882423401.\n"
          ]
        },
        {
          "name": "stdout",
          "output_type": "stream",
          "text": [
            "Epoch 1/20\n",
            "16/16 [==============================] - 93s 3s/step - loss: 3.0832 - mae: 0.9373 - val_loss: 0.0076 - val_mae: 0.0705\n",
            "Epoch 2/20\n",
            "16/16 [==============================] - 15s 970ms/step - loss: 0.0160 - mae: 0.1013 - val_loss: 0.0156 - val_mae: 0.1107\n",
            "Epoch 3/20\n",
            "16/16 [==============================] - 16s 991ms/step - loss: 0.0022 - mae: 0.0379 - val_loss: 0.0120 - val_mae: 0.0966\n",
            "Epoch 4/20\n",
            "16/16 [==============================] - 16s 991ms/step - loss: 8.2134e-04 - mae: 0.0226 - val_loss: 0.0098 - val_mae: 0.0868\n",
            "Epoch 5/20\n",
            "16/16 [==============================] - 16s 994ms/step - loss: 5.3137e-04 - mae: 0.0179 - val_loss: 0.0078 - val_mae: 0.0742\n",
            "Epoch 6/20\n",
            "16/16 [==============================] - 16s 979ms/step - loss: 4.3432e-04 - mae: 0.0165 - val_loss: 0.0075 - val_mae: 0.0730\n",
            "Epoch 7/20\n",
            "16/16 [==============================] - 16s 1000ms/step - loss: 3.9762e-04 - mae: 0.0161 - val_loss: 0.0068 - val_mae: 0.0679\n",
            "Epoch 8/20\n",
            "16/16 [==============================] - 16s 1s/step - loss: 3.7706e-04 - mae: 0.0159 - val_loss: 0.0076 - val_mae: 0.0740\n",
            "Epoch 9/20\n",
            "16/16 [==============================] - 16s 987ms/step - loss: 3.4846e-04 - mae: 0.0152 - val_loss: 0.0068 - val_mae: 0.0687\n",
            "Epoch 10/20\n",
            "16/16 [==============================] - 16s 1s/step - loss: 3.2802e-04 - mae: 0.0149 - val_loss: 0.0070 - val_mae: 0.0705\n",
            "Epoch 11/20\n",
            "16/16 [==============================] - 16s 989ms/step - loss: 3.1610e-04 - mae: 0.0146 - val_loss: 0.0063 - val_mae: 0.0650\n",
            "Epoch 12/20\n",
            "16/16 [==============================] - 16s 1s/step - loss: 3.1352e-04 - mae: 0.0145 - val_loss: 0.0066 - val_mae: 0.0676\n",
            "Epoch 13/20\n",
            "16/16 [==============================] - 16s 1s/step - loss: 3.0726e-04 - mae: 0.0144 - val_loss: 0.0070 - val_mae: 0.0703\n",
            "Epoch 14/20\n",
            "16/16 [==============================] - 16s 1s/step - loss: 2.8534e-04 - mae: 0.0139 - val_loss: 0.0071 - val_mae: 0.0717\n",
            "Epoch 15/20\n",
            "16/16 [==============================] - 16s 1s/step - loss: 2.7987e-04 - mae: 0.0138 - val_loss: 0.0071 - val_mae: 0.0717\n",
            "Epoch 16/20\n",
            "16/16 [==============================] - 16s 1s/step - loss: 2.6732e-04 - mae: 0.0135 - val_loss: 0.0065 - val_mae: 0.0670\n",
            "Epoch 17/20\n",
            "16/16 [==============================] - 16s 1s/step - loss: 2.6010e-04 - mae: 0.0134 - val_loss: 0.0064 - val_mae: 0.0665\n",
            "Epoch 18/20\n",
            "16/16 [==============================] - 16s 1s/step - loss: 2.5695e-04 - mae: 0.0133 - val_loss: 0.0064 - val_mae: 0.0666\n",
            "Epoch 19/20\n",
            "16/16 [==============================] - 16s 989ms/step - loss: 2.4942e-04 - mae: 0.0131 - val_loss: 0.0069 - val_mae: 0.0707\n",
            "Epoch 20/20\n",
            "16/16 [==============================] - 16s 990ms/step - loss: 2.4054e-04 - mae: 0.0129 - val_loss: 0.0061 - val_mae: 0.0641\n"
          ]
        },
        {
          "name": "stderr",
          "output_type": "stream",
          "text": [
            "[I 2024-01-23 14:27:43,596] Trial 5 finished with value: 1.0916175842285156 and parameters: {'filters_1': 128, 'kernel_size_1': 5, 'strides_1': 1, 'activation_1': 'relu', 'filters_2': 256, 'kernel_size_2': 5, 'strides_2': 1, 'activation_2': 'relu', 'filters_3': 128, 'kernel_size_3': 3, 'strides_3': 1, 'activation_3': 'relu', 'activation_4': 'tanh', 'lr': 0.0015935289634447225, 'batch_size': 128, 'epochs': 20, 'val_split': 0.2}. Best is trial 0 with value: 0.9384937882423401.\n",
            "WARNING:tensorflow:Layer lstm will not use cuDNN kernels since it doesn't meet the criteria. It will use a generic GPU kernel as fallback when running on GPU.\n",
            "WARNING:tensorflow:Layer lstm will not use cuDNN kernels since it doesn't meet the criteria. It will use a generic GPU kernel as fallback when running on GPU.\n",
            "WARNING:tensorflow:Layer lstm will not use cuDNN kernels since it doesn't meet the criteria. It will use a generic GPU kernel as fallback when running on GPU.\n"
          ]
        },
        {
          "name": "stdout",
          "output_type": "stream",
          "text": [
            "Epoch 1/50\n",
            "16/16 [==============================] - 22s 748ms/step - loss: 1542909824.0000 - mae: 27050.7871 - val_loss: 5194614272.0000 - val_mae: 66722.6562\n",
            "Epoch 2/50\n",
            "16/16 [==============================] - 5s 296ms/step - loss: 7151707136.0000 - mae: 66761.7188 - val_loss: 8585558016.0000 - val_mae: 66500.8672\n",
            "Epoch 3/50\n",
            "16/16 [==============================] - 5s 289ms/step - loss: 26093301760.0000 - mae: 126807.3828 - val_loss: 11676094464.0000 - val_mae: 97527.3906\n",
            "Epoch 4/50\n",
            "16/16 [==============================] - 5s 316ms/step - loss: 19038720000.0000 - mae: 108258.6328 - val_loss: 15221498880.0000 - val_mae: 99445.9688\n",
            "Epoch 5/50\n",
            "16/16 [==============================] - 5s 283ms/step - loss: 29757622272.0000 - mae: 134853.1406 - val_loss: 98532524032.0000 - val_mae: 303429.5312\n",
            "Epoch 6/50\n",
            "16/16 [==============================] - 5s 283ms/step - loss: 37281079296.0000 - mae: 144356.0000 - val_loss: 3175649280.0000 - val_mae: 48161.7695\n",
            "Epoch 7/50\n",
            "16/16 [==============================] - 5s 313ms/step - loss: 8694711296.0000 - mae: 71066.2891 - val_loss: 148153008128.0000 - val_mae: 379899.6250\n",
            "Epoch 8/50\n",
            "16/16 [==============================] - 5s 286ms/step - loss: 218466189312.0000 - mae: 391118.8125 - val_loss: 1479802368.0000 - val_mae: 36999.6406\n",
            "Epoch 9/50\n",
            "16/16 [==============================] - 5s 284ms/step - loss: 27797557248.0000 - mae: 135212.4531 - val_loss: 2375085568.0000 - val_mae: 46236.2539\n",
            "Epoch 10/50\n",
            "16/16 [==============================] - 5s 316ms/step - loss: 666027008.0000 - mae: 18964.2461 - val_loss: 1168266752.0000 - val_mae: 31799.2676\n",
            "Epoch 11/50\n",
            "16/16 [==============================] - 5s 285ms/step - loss: 509758432.0000 - mae: 15283.5752 - val_loss: 2401783808.0000 - val_mae: 45911.3047\n",
            "Epoch 12/50\n",
            "16/16 [==============================] - 5s 284ms/step - loss: 2060920704.0000 - mae: 36892.2148 - val_loss: 4142576384.0000 - val_mae: 63102.0508\n",
            "Epoch 13/50\n",
            "16/16 [==============================] - 5s 318ms/step - loss: 1388398464.0000 - mae: 31070.2129 - val_loss: 61195080.0000 - val_mae: 6394.3970\n",
            "Epoch 14/50\n",
            "16/16 [==============================] - 4s 281ms/step - loss: 363425952.0000 - mae: 15111.0605 - val_loss: 96491400.0000 - val_mae: 7994.8672\n",
            "Epoch 15/50\n",
            "16/16 [==============================] - 5s 284ms/step - loss: 83700656.0000 - mae: 7386.3750 - val_loss: 58406336.0000 - val_mae: 6407.0708\n",
            "Epoch 16/50\n",
            "16/16 [==============================] - 5s 311ms/step - loss: 33460328.0000 - mae: 4659.2651 - val_loss: 34686440.0000 - val_mae: 5037.1899\n",
            "Epoch 17/50\n",
            "16/16 [==============================] - 4s 282ms/step - loss: 29419846.0000 - mae: 4422.6997 - val_loss: 30118394.0000 - val_mae: 4516.4473\n",
            "Epoch 18/50\n",
            "16/16 [==============================] - 5s 293ms/step - loss: 25686416.0000 - mae: 4136.1748 - val_loss: 27646994.0000 - val_mae: 4454.4380\n",
            "Epoch 19/50\n",
            "16/16 [==============================] - 5s 306ms/step - loss: 22986784.0000 - mae: 3921.7021 - val_loss: 24228190.0000 - val_mae: 3960.3435\n",
            "Epoch 20/50\n",
            "16/16 [==============================] - 5s 287ms/step - loss: 22625340.0000 - mae: 3863.0847 - val_loss: 22846458.0000 - val_mae: 3948.1228\n",
            "Epoch 21/50\n",
            "16/16 [==============================] - 5s 301ms/step - loss: 22802760.0000 - mae: 3909.1648 - val_loss: 24774438.0000 - val_mae: 4116.9790\n",
            "Epoch 22/50\n",
            "16/16 [==============================] - 5s 303ms/step - loss: 22642108.0000 - mae: 3914.7510 - val_loss: 22709474.0000 - val_mae: 3973.0645\n",
            "Epoch 23/50\n",
            "16/16 [==============================] - 5s 287ms/step - loss: 22436152.0000 - mae: 3871.1199 - val_loss: 23175888.0000 - val_mae: 4029.9878\n",
            "Epoch 24/50\n",
            "16/16 [==============================] - 5s 297ms/step - loss: 22437734.0000 - mae: 3862.5713 - val_loss: 25502840.0000 - val_mae: 4264.5337\n",
            "Epoch 25/50\n",
            "16/16 [==============================] - 5s 297ms/step - loss: 21983772.0000 - mae: 3782.8174 - val_loss: 23339466.0000 - val_mae: 4029.7161\n",
            "Epoch 26/50\n",
            "16/16 [==============================] - 5s 284ms/step - loss: 23564610.0000 - mae: 3958.7581 - val_loss: 24375370.0000 - val_mae: 4038.4800\n",
            "Epoch 27/50\n",
            "16/16 [==============================] - 5s 313ms/step - loss: 20408040.0000 - mae: 3636.9199 - val_loss: 22326442.0000 - val_mae: 3803.2969\n",
            "Epoch 28/50\n",
            "16/16 [==============================] - 5s 287ms/step - loss: 19598838.0000 - mae: 3568.5034 - val_loss: 22615320.0000 - val_mae: 3756.8289\n",
            "Epoch 29/50\n",
            "16/16 [==============================] - 4s 281ms/step - loss: 20684654.0000 - mae: 3674.9016 - val_loss: 22556048.0000 - val_mae: 3879.8640\n",
            "Epoch 30/50\n",
            "16/16 [==============================] - 5s 315ms/step - loss: 19507352.0000 - mae: 3568.4712 - val_loss: 20458102.0000 - val_mae: 3575.0144\n",
            "Epoch 31/50\n",
            "16/16 [==============================] - 5s 283ms/step - loss: 18825768.0000 - mae: 3496.1443 - val_loss: 19579188.0000 - val_mae: 3421.2312\n",
            "Epoch 32/50\n",
            "16/16 [==============================] - 5s 283ms/step - loss: 18929358.0000 - mae: 3493.3379 - val_loss: 20701094.0000 - val_mae: 3617.6667\n",
            "Epoch 33/50\n",
            "16/16 [==============================] - 5s 321ms/step - loss: 19501618.0000 - mae: 3552.0498 - val_loss: 20266780.0000 - val_mae: 3561.6392\n",
            "Epoch 34/50\n",
            "16/16 [==============================] - 5s 286ms/step - loss: 20296944.0000 - mae: 3639.4827 - val_loss: 18668566.0000 - val_mae: 3375.3281\n",
            "Epoch 35/50\n",
            "16/16 [==============================] - 5s 284ms/step - loss: 20576976.0000 - mae: 3657.3870 - val_loss: 21149186.0000 - val_mae: 3702.6497\n",
            "Epoch 36/50\n",
            "16/16 [==============================] - 5s 316ms/step - loss: 22957410.0000 - mae: 3830.5598 - val_loss: 22995944.0000 - val_mae: 3816.7629\n",
            "Epoch 37/50\n",
            "16/16 [==============================] - 4s 281ms/step - loss: 25376846.0000 - mae: 4068.0322 - val_loss: 32073350.0000 - val_mae: 4522.3774\n",
            "Epoch 38/50\n",
            "16/16 [==============================] - 5s 283ms/step - loss: 1900197120.0000 - mae: 32623.8008 - val_loss: 368504000.0000 - val_mae: 17629.7012\n",
            "Epoch 39/50\n",
            "16/16 [==============================] - 5s 315ms/step - loss: 740839104.0000 - mae: 23083.0957 - val_loss: 48012812.0000 - val_mae: 5785.8306\n",
            "Epoch 40/50\n",
            "16/16 [==============================] - 5s 287ms/step - loss: 152934768.0000 - mae: 10348.7178 - val_loss: 53387576.0000 - val_mae: 6022.7437\n",
            "Epoch 41/50\n",
            "16/16 [==============================] - 5s 284ms/step - loss: 53455292.0000 - mae: 5964.5703 - val_loss: 43807720.0000 - val_mae: 5510.0410\n",
            "Epoch 42/50\n",
            "16/16 [==============================] - 5s 314ms/step - loss: 34530908.0000 - mae: 4732.6099 - val_loss: 49955624.0000 - val_mae: 5893.6968\n",
            "Epoch 43/50\n",
            "16/16 [==============================] - 5s 283ms/step - loss: 33047036.0000 - mae: 4641.0068 - val_loss: 32834662.0000 - val_mae: 4856.7222\n",
            "Epoch 44/50\n",
            "16/16 [==============================] - 5s 293ms/step - loss: 28023210.0000 - mae: 4372.2788 - val_loss: 25380350.0000 - val_mae: 4240.7183\n",
            "Epoch 45/50\n",
            "16/16 [==============================] - 5s 307ms/step - loss: 21268074.0000 - mae: 3762.8125 - val_loss: 21905164.0000 - val_mae: 3804.3599\n",
            "Epoch 46/50\n",
            "16/16 [==============================] - 5s 283ms/step - loss: 19587274.0000 - mae: 3602.9700 - val_loss: 19576644.0000 - val_mae: 3613.0103\n",
            "Epoch 47/50\n",
            "16/16 [==============================] - 5s 301ms/step - loss: 18612966.0000 - mae: 3504.2317 - val_loss: 19205748.0000 - val_mae: 3657.3108\n",
            "Epoch 48/50\n",
            "16/16 [==============================] - 5s 300ms/step - loss: 18646952.0000 - mae: 3505.2878 - val_loss: 18786514.0000 - val_mae: 3606.0127\n",
            "Epoch 49/50\n",
            "16/16 [==============================] - 4s 281ms/step - loss: 16975196.0000 - mae: 3316.3533 - val_loss: 16244544.0000 - val_mae: 3312.3091\n",
            "Epoch 50/50\n",
            "16/16 [==============================] - 5s 306ms/step - loss: 16781342.0000 - mae: 3286.0405 - val_loss: 16707865.0000 - val_mae: 3378.9939\n"
          ]
        },
        {
          "name": "stderr",
          "output_type": "stream",
          "text": [
            "[I 2024-01-23 14:32:10,351] Trial 6 finished with value: 5654.78759765625 and parameters: {'filters_1': 256, 'kernel_size_1': 7, 'strides_1': 1, 'activation_1': 'relu', 'filters_2': 128, 'kernel_size_2': 3, 'strides_2': 2, 'activation_2': 'relu', 'filters_3': 64, 'kernel_size_3': 3, 'strides_3': 1, 'activation_3': 'relu', 'activation_4': 'relu', 'lr': 0.003078980556271749, 'batch_size': 128, 'epochs': 50, 'val_split': 0.2}. Best is trial 0 with value: 0.9384937882423401.\n",
            "WARNING:tensorflow:Layer lstm will not use cuDNN kernels since it doesn't meet the criteria. It will use a generic GPU kernel as fallback when running on GPU.\n",
            "WARNING:tensorflow:Layer lstm will not use cuDNN kernels since it doesn't meet the criteria. It will use a generic GPU kernel as fallback when running on GPU.\n",
            "WARNING:tensorflow:Layer lstm will not use cuDNN kernels since it doesn't meet the criteria. It will use a generic GPU kernel as fallback when running on GPU.\n"
          ]
        },
        {
          "name": "stdout",
          "output_type": "stream",
          "text": [
            "Epoch 1/10\n",
            "126/126 [==============================] - 16s 91ms/step - loss: 5573742.0000 - mae: 1333.1296 - val_loss: 2251.1189 - val_mae: 36.0680\n",
            "Epoch 2/10\n",
            "126/126 [==============================] - 10s 79ms/step - loss: 1752.1936 - mae: 32.4855 - val_loss: 1359.8635 - val_mae: 29.0183\n",
            "Epoch 3/10\n",
            "126/126 [==============================] - 9s 75ms/step - loss: 1145.0260 - mae: 27.3444 - val_loss: 1196.1345 - val_mae: 28.1188\n",
            "Epoch 4/10\n",
            "126/126 [==============================] - 10s 82ms/step - loss: 916.7802 - mae: 24.5467 - val_loss: 849.5089 - val_mae: 24.5068\n",
            "Epoch 5/10\n",
            "126/126 [==============================] - 10s 82ms/step - loss: 672.4484 - mae: 20.8926 - val_loss: 542.6434 - val_mae: 19.2615\n",
            "Epoch 6/10\n",
            "126/126 [==============================] - 9s 71ms/step - loss: 524.4044 - mae: 18.3995 - val_loss: 515.0635 - val_mae: 16.9538\n",
            "Epoch 7/10\n",
            "126/126 [==============================] - 10s 82ms/step - loss: 431.5362 - mae: 16.7361 - val_loss: 406.6615 - val_mae: 16.1770\n",
            "Epoch 8/10\n",
            "126/126 [==============================] - 11s 84ms/step - loss: 385.9708 - mae: 15.8013 - val_loss: 408.1987 - val_mae: 15.5132\n",
            "Epoch 9/10\n",
            "126/126 [==============================] - 10s 82ms/step - loss: 372.4821 - mae: 15.5553 - val_loss: 313.5997 - val_mae: 14.3752\n",
            "Epoch 10/10\n",
            "126/126 [==============================] - 9s 71ms/step - loss: 342.6797 - mae: 14.8442 - val_loss: 363.8590 - val_mae: 15.0268\n"
          ]
        },
        {
          "name": "stderr",
          "output_type": "stream",
          "text": [
            "[I 2024-01-23 14:34:36,215] Trial 7 finished with value: 34.904727935791016 and parameters: {'filters_1': 128, 'kernel_size_1': 5, 'strides_1': 2, 'activation_1': 'relu', 'filters_2': 256, 'kernel_size_2': 5, 'strides_2': 2, 'activation_2': 'relu', 'filters_3': 512, 'kernel_size_3': 3, 'strides_3': 1, 'activation_3': 'relu', 'activation_4': 'relu', 'lr': 0.002742672977590187, 'batch_size': 16, 'epochs': 10, 'val_split': 0.2}. Best is trial 0 with value: 0.9384937882423401.\n",
            "WARNING:tensorflow:Layer lstm will not use cuDNN kernels since it doesn't meet the criteria. It will use a generic GPU kernel as fallback when running on GPU.\n",
            "WARNING:tensorflow:Layer lstm will not use cuDNN kernels since it doesn't meet the criteria. It will use a generic GPU kernel as fallback when running on GPU.\n",
            "WARNING:tensorflow:Layer lstm will not use cuDNN kernels since it doesn't meet the criteria. It will use a generic GPU kernel as fallback when running on GPU.\n"
          ]
        },
        {
          "name": "stdout",
          "output_type": "stream",
          "text": [
            "Epoch 1/30\n",
            "32/32 [==============================] - 62s 1s/step - loss: 399222.6562 - mae: 458.2253 - val_loss: 934158.1250 - val_mae: 748.1942\n",
            "Epoch 2/30\n",
            "32/32 [==============================] - 29s 916ms/step - loss: 157866320.0000 - mae: 5286.5391 - val_loss: 2273686016.0000 - val_mae: 33060.1133\n",
            "Epoch 3/30\n",
            "32/32 [==============================] - 32s 995ms/step - loss: 1834749824.0000 - mae: 27815.9258 - val_loss: 127895576.0000 - val_mae: 7939.7529\n",
            "Epoch 4/30\n",
            "32/32 [==============================] - 32s 997ms/step - loss: 130653896.0000 - mae: 8299.8447 - val_loss: 83483536.0000 - val_mae: 7759.3740\n",
            "Epoch 5/30\n",
            "32/32 [==============================] - 32s 1s/step - loss: 69488960.0000 - mae: 6109.8521 - val_loss: 13032215.0000 - val_mae: 3186.7136\n",
            "Epoch 6/30\n",
            "32/32 [==============================] - 30s 925ms/step - loss: 21408662.0000 - mae: 3111.9797 - val_loss: 13203900.0000 - val_mae: 2738.5195\n",
            "Epoch 7/30\n",
            "32/32 [==============================] - 32s 1s/step - loss: 62261308.0000 - mae: 5574.7183 - val_loss: 153922816.0000 - val_mae: 12251.0625\n",
            "Epoch 8/30\n",
            "32/32 [==============================] - 32s 1000ms/step - loss: 96164648.0000 - mae: 7261.7026 - val_loss: 6311304.5000 - val_mae: 2458.3298\n",
            "Epoch 9/30\n",
            "32/32 [==============================] - 32s 1s/step - loss: 122636912.0000 - mae: 6438.7935 - val_loss: 47279608.0000 - val_mae: 4674.8965\n",
            "Epoch 10/30\n",
            "32/32 [==============================] - 32s 1s/step - loss: 20326996.0000 - mae: 3169.6960 - val_loss: 4004497.2500 - val_mae: 1509.8827\n",
            "Epoch 11/30\n",
            "32/32 [==============================] - 30s 925ms/step - loss: 2847060.0000 - mae: 1304.5332 - val_loss: 352120.0938 - val_mae: 510.2628\n",
            "Epoch 12/30\n",
            "32/32 [==============================] - 32s 1s/step - loss: 385346.7500 - mae: 473.8207 - val_loss: 210379.0000 - val_mae: 328.9426\n",
            "Epoch 13/30\n",
            "32/32 [==============================] - 32s 1s/step - loss: 686634.3750 - mae: 395.9382 - val_loss: 183390.0938 - val_mae: 299.4079\n",
            "Epoch 14/30\n",
            "32/32 [==============================] - 32s 1s/step - loss: 2027652.5000 - mae: 600.4747 - val_loss: 1712270.7500 - val_mae: 940.0509\n",
            "Epoch 15/30\n",
            "32/32 [==============================] - 29s 921ms/step - loss: 1418047.1250 - mae: 892.2901 - val_loss: 1009147.6875 - val_mae: 721.2717\n",
            "Epoch 16/30\n",
            "32/32 [==============================] - 32s 1s/step - loss: 1953904.5000 - mae: 1010.0942 - val_loss: 3396105.7500 - val_mae: 1466.6311\n",
            "Epoch 17/30\n",
            "32/32 [==============================] - 32s 1000ms/step - loss: 5948424.0000 - mae: 1951.9349 - val_loss: 6535199.0000 - val_mae: 2036.4984\n",
            "Epoch 18/30\n",
            "32/32 [==============================] - 32s 1s/step - loss: 4651699.0000 - mae: 1709.0958 - val_loss: 1656974.1250 - val_mae: 1072.4916\n",
            "Epoch 19/30\n",
            "32/32 [==============================] - 32s 1s/step - loss: 2658642.2500 - mae: 804.8366 - val_loss: 623343.1875 - val_mae: 474.9711\n",
            "Epoch 20/30\n",
            "32/32 [==============================] - 32s 1s/step - loss: 4620715.0000 - mae: 801.2351 - val_loss: 7271781.0000 - val_mae: 1404.1710\n",
            "Epoch 21/30\n",
            "32/32 [==============================] - 32s 1000ms/step - loss: 2889208.2500 - mae: 1304.9227 - val_loss: 1454698.7500 - val_mae: 846.5944\n",
            "Epoch 22/30\n",
            "32/32 [==============================] - 32s 1s/step - loss: 2431945.7500 - mae: 1096.7601 - val_loss: 355948.0625 - val_mae: 420.5604\n",
            "Epoch 23/30\n",
            "32/32 [==============================] - 32s 1s/step - loss: 156910.3594 - mae: 268.7228 - val_loss: 193501.8438 - val_mae: 288.4583\n",
            "Epoch 24/30\n",
            "32/32 [==============================] - 32s 1s/step - loss: 166269.3125 - mae: 267.1169 - val_loss: 277393.5000 - val_mae: 324.0298\n",
            "Epoch 25/30\n",
            "32/32 [==============================] - 32s 1s/step - loss: 311044.0312 - mae: 333.1258 - val_loss: 442910.8750 - val_mae: 407.5285\n",
            "Epoch 26/30\n",
            "32/32 [==============================] - 30s 922ms/step - loss: 326570.1875 - mae: 332.4717 - val_loss: 348582.7812 - val_mae: 347.9570\n",
            "Epoch 27/30\n",
            "32/32 [==============================] - 32s 1s/step - loss: 243978.6406 - mae: 280.5197 - val_loss: 176495.8125 - val_mae: 275.4930\n",
            "Epoch 28/30\n",
            "32/32 [==============================] - ETA: 0s - loss: 123917.2500 - mae: 232.2527"
          ]
        }
      ],
      "source": [
        "study = optuna.create_study(direction=\"minimize\")\n",
        "study.optimize(objective, n_trials=100, timeout=6000)\n",
        "\n",
        "print(\"Number of finished trials: {}\".format(len(study.trials)))\n",
        "\n",
        "print(\"Best trial:\")\n",
        "trial = study.best_trial\n",
        "\n",
        "print(\"  Value: {}\".format(trial.value))\n",
        "\n",
        "print(\"  Params: \")\n",
        "for key, value in trial.params.items():\n",
        "    print(\"    {}: {}\".format(key, value))"
      ]
    },
    {
      "cell_type": "code",
      "execution_count": null,
      "metadata": {
        "id": "iqWtVi8Dr_X2"
      },
      "outputs": [],
      "source": [
        "fig = optuna.visualization.plot_param_importances(study)\n",
        "fig.show()"
      ]
    },
    {
      "cell_type": "code",
      "execution_count": null,
      "metadata": {
        "id": "5YLsja3HCDiN"
      },
      "outputs": [],
      "source": [
        "!pip install optuna-dashboard\n",
        "!optuna-dashboard sqlite:///db.sqlite3"
      ]
    },
    {
      "cell_type": "markdown",
      "metadata": {
        "id": "2Ti7bQXP79IO"
      },
      "source": [
        "Model Creation using Optimum Hyper parameters"
      ]
    },
    {
      "cell_type": "code",
      "execution_count": null,
      "metadata": {
        "id": "kIKPegzRYpbn"
      },
      "outputs": [],
      "source": [
        "from keras.layers import BatchNormalization"
      ]
    },
    {
      "cell_type": "code",
      "execution_count": null,
      "metadata": {
        "id": "wYhbKktNAuMn"
      },
      "outputs": [],
      "source": [
        "model = Sequential()\n",
        "model.add(Conv2D(filters=64, kernel_size=(5,5), activation='relu', input_shape=(100,85,1)))\n",
        "model.add(BatchNormalization())\n",
        "model.add(MaxPooling2D(pool_size=(2, 2),strides=2))\n",
        "model.add(Dropout(0.2))\n",
        "model.add(Conv2D(filters=128, kernel_size=(3,3), activation='relu'))\n",
        "model.add(BatchNormalization())\n",
        "model.add(MaxPooling2D(pool_size=(2, 2),strides=2))\n",
        "model.add(Dropout(0.2))\n",
        "model.add(Conv2D(filters=256, kernel_size=(3,3), activation='relu'))\n",
        "model.add(BatchNormalization())\n",
        "model.add(MaxPooling2D(pool_size=(2, 2),strides=2))\n",
        "model.add(Dropout(0.2))\n",
        "model.add(Lambda(ReshapeLayer)) # <========== pass from 4D to 3D\n",
        "model.add(LSTM(100, activation='tanh', return_sequences=False))\n",
        "model.add(Dense(1,activation='linear'))"
      ]
    },
    {
      "cell_type": "code",
      "execution_count": null,
      "metadata": {
        "id": "34bbXOfZ6zA6"
      },
      "outputs": [],
      "source": [
        "model.summary()"
      ]
    },
    {
      "cell_type": "code",
      "execution_count": null,
      "metadata": {
        "id": "vF9n2_mXGCtU"
      },
      "outputs": [],
      "source": [
        "#Compile the model\n",
        "optimizer = keras.optimizers.Adam(lr=0.00001)\n",
        "model.compile(optimizer=optimizer, loss='mse', metrics=['mae'])\n"
      ]
    },
    {
      "cell_type": "code",
      "execution_count": null,
      "metadata": {
        "id": "q8NaHcILhsVI"
      },
      "outputs": [],
      "source": []
    },
    {
      "cell_type": "code",
      "execution_count": null,
      "metadata": {
        "id": "qSRQyFBEGRp_"
      },
      "outputs": [],
      "source": [
        "#Train the model\n",
        "history= model.fit(x_train, y_train, batch_size=32, epochs=30, validation_split=0.05)"
      ]
    },
    {
      "cell_type": "code",
      "execution_count": null,
      "metadata": {
        "id": "CtRZweZ0oYLd"
      },
      "outputs": [],
      "source": [
        "\n"
      ]
    },
    {
      "cell_type": "code",
      "execution_count": null,
      "metadata": {
        "id": "9MO3axPa9dU9"
      },
      "outputs": [],
      "source": [
        "mae = history.history['mae']\n",
        "mae"
      ]
    },
    {
      "cell_type": "code",
      "execution_count": null,
      "metadata": {
        "id": "9nLaab9H6aKL"
      },
      "outputs": [],
      "source": [
        "loss = history.history['loss']\n",
        "epochs = range(1, len(loss) + 1)\n",
        "mae = history.history['mae']\n",
        "val_mae = history.history['val_mae']\n",
        "plt.plot(epochs, mae, 'bo', label='Training mae')\n",
        "plt.plot(epochs, val_mae, 'b', label='Validation mae')\n",
        "plt.title('Training and validation mae')\n",
        "plt.xlabel('Epochs')\n",
        "plt.ylabel('Loss')\n",
        "plt.legend()\n",
        "plt.show()"
      ]
    },
    {
      "cell_type": "code",
      "execution_count": null,
      "metadata": {
        "id": "MomzZyvA_UbB"
      },
      "outputs": [],
      "source": [
        "loss = history.history['loss']\n",
        "epochs = range(1, len(loss) + 1)\n",
        "loss = history.history['loss']\n",
        "val_loss = history.history['val_loss']\n",
        "plt.plot(epochs, loss, 'bo', label='Training loss')\n",
        "plt.plot(epochs, val_loss, 'b', label='Validation loss')\n",
        "plt.title('Training and validation loss')\n",
        "plt.xlabel('Epochs')\n",
        "plt.ylabel('Loss')\n",
        "plt.legend()\n",
        "plt.show()"
      ]
    },
    {
      "cell_type": "code",
      "execution_count": null,
      "metadata": {
        "id": "AQpq_da7swEA"
      },
      "outputs": [],
      "source": [
        "training_data_len"
      ]
    },
    {
      "cell_type": "code",
      "execution_count": null,
      "metadata": {
        "id": "kATjG9TAH3XU"
      },
      "outputs": [],
      "source": [
        "#Convert the data into numpy array\n",
        "x_test= np.array(x_test)\n",
        "y_test= np.array(y_test)\n"
      ]
    },
    {
      "cell_type": "code",
      "execution_count": null,
      "metadata": {
        "id": "jYaiPiuXlnAN"
      },
      "outputs": [],
      "source": [
        "x_test.shape"
      ]
    },
    {
      "cell_type": "code",
      "execution_count": null,
      "metadata": {
        "id": "EIAfeNQNIU-M"
      },
      "outputs": [],
      "source": [
        "#Get the predicted values\n",
        "predicts = model.predict(x_test)"
      ]
    },
    {
      "cell_type": "code",
      "execution_count": null,
      "metadata": {
        "id": "tYfvV--aKlQ3"
      },
      "outputs": [],
      "source": [
        "predicts"
      ]
    },
    {
      "cell_type": "code",
      "execution_count": null,
      "metadata": {
        "id": "mKq0cmhYbzDk"
      },
      "outputs": [],
      "source": [
        "scaled_data.shape"
      ]
    },
    {
      "cell_type": "code",
      "execution_count": null,
      "metadata": {
        "id": "WQzocmpxtwKW"
      },
      "outputs": [],
      "source": [
        "scaled_data[2704:3254, 0:1]"
      ]
    },
    {
      "cell_type": "code",
      "execution_count": null,
      "metadata": {
        "id": "48OvukCxvggP"
      },
      "outputs": [],
      "source": [
        "data1 = scalar.inverse_transform(scaled_data)"
      ]
    },
    {
      "cell_type": "code",
      "execution_count": null,
      "metadata": {
        "id": "QPxUPmVhaVUp"
      },
      "outputs": [],
      "source": [
        "#double inverse transform\n",
        "\n",
        "\n",
        "#2\n",
        "scaled_data_dup=scaled_data\n",
        "for i in range(len(predicts)):\n",
        "  scaled_data_dup[2704+i:2705+i, 0:1]=predicts[i]\n",
        "\n",
        "data2 = scalar.inverse_transform(scaled_data_dup)\n"
      ]
    },
    {
      "cell_type": "code",
      "execution_count": null,
      "metadata": {
        "id": "8VNNQp3Ym4lr"
      },
      "outputs": [],
      "source": [
        "scaled_data_dup[2704:3254, 0:1]"
      ]
    },
    {
      "cell_type": "code",
      "execution_count": null,
      "metadata": {
        "id": "yaFAU_LamhH_"
      },
      "outputs": [],
      "source": [
        "data2[2704:3254, 0:1]"
      ]
    },
    {
      "cell_type": "code",
      "execution_count": null,
      "metadata": {
        "id": "VTbYszFCmp7C"
      },
      "outputs": [],
      "source": [
        "data1[2704:3254, 0:1]"
      ]
    },
    {
      "cell_type": "code",
      "execution_count": null,
      "metadata": {
        "id": "whm8xtO5LVt5"
      },
      "outputs": [],
      "source": [
        "data2.shape"
      ]
    },
    {
      "cell_type": "code",
      "execution_count": null,
      "metadata": {
        "id": "9UZzbjbNo1Ve"
      },
      "outputs": [],
      "source": [
        "#Plot the data\n",
        "train = df[:training_data_len]\n",
        "valid = df[training_data_len:]\n",
        "#Visualizing\n",
        "plt.figure(figsize=(14,7))\n",
        "plt.title('model')\n",
        "plt.xlabel('Date', fontsize=18)\n",
        "plt.ylabel('Close Price', fontsize=18)\n",
        "plt.plot(data1[2734:3292, 0:1])\n",
        "plt.plot(data2[2734:3292, 0:1])\n",
        "plt.legend(['Real', 'Predictions'], loc='lower right')\n",
        "plt.show()"
      ]
    },
    {
      "cell_type": "code",
      "execution_count": null,
      "metadata": {
        "id": "VdSIG4aiIrmn"
      },
      "outputs": [],
      "source": [
        "#Get the root mean square error\n",
        "from scipy.sparse.linalg.isolve.lsqr import sqrt\n",
        "from numpy.core.fromnumeric import mean\n",
        "rmse=np.sqrt(np.mean((data2[2734:, 0:1]-data1[2734:, 0:1])**2))\n",
        "rmse"
      ]
    },
    {
      "cell_type": "code",
      "execution_count": null,
      "metadata": {
        "id": "dJ5bEIIuTTei"
      },
      "outputs": [],
      "source": [
        "#Vizualisation\n",
        "intermediate_layer_model = keras.Model(inputs=model.input,\n",
        "                                       outputs=model.get_layer('conv2d_18').output)\n",
        "intermediate_output = intermediate_layer_model(x_train[None,1])\n",
        "\n",
        "for i in range(64):\n",
        "  plt.plot(intermediate_output[0,:,:,i])\n",
        "  plt.show()"
      ]
    },
    {
      "cell_type": "code",
      "execution_count": null,
      "metadata": {
        "id": "fmht7dGqqZg4"
      },
      "outputs": [],
      "source": [
        "intermediate_layer_model = keras.Model(inputs=model.input,\n",
        "                                       outputs=model.get_layer('max_pooling2d_18').output)\n",
        "intermediate_output = intermediate_layer_model(x_train[None,1])\n",
        "\n",
        "for i in range(64):\n",
        "  plt.plot(intermediate_output[0,:,:,i])\n",
        "  plt.show()"
      ]
    },
    {
      "cell_type": "code",
      "execution_count": null,
      "metadata": {
        "id": "rM4WVjh7rkg9"
      },
      "outputs": [],
      "source": [
        "intermediate_layer_model = keras.Model(inputs=model.input,\n",
        "                                       outputs=model.get_layer('conv2d_19').output)\n",
        "intermediate_output = intermediate_layer_model(x_train[None,1])\n",
        "\n",
        "for i in range(128):\n",
        "  plt.plot(intermediate_output[0,:,:,i])\n",
        "  plt.show()"
      ]
    },
    {
      "cell_type": "code",
      "execution_count": null,
      "metadata": {
        "id": "J79P8VseICS8"
      },
      "outputs": [],
      "source": [
        "intermediate_layer_model = keras.Model(inputs=model.input,\n",
        "                                       outputs=model.get_layer('max_pooling2d_19').output)\n",
        "intermediate_output = intermediate_layer_model(x_train[None,1])\n",
        "\n",
        "for i in range(128):\n",
        "  plt.plot(intermediate_output[0,:,:,i])\n",
        "  plt.show()"
      ]
    },
    {
      "cell_type": "code",
      "execution_count": null,
      "metadata": {
        "id": "MQL9Nq9GIYwe"
      },
      "outputs": [],
      "source": [
        "intermediate_layer_model = keras.Model(inputs=model.input,\n",
        "                                       outputs=model.get_layer('lambda_3').output)\n",
        "intermediate_output = intermediate_layer_model(x_train[None,1])\n",
        "\n",
        "plt.plot(intermediate_output[0,:,:,1])\n",
        "plt.show()"
      ]
    }
  ],
  "metadata": {
    "accelerator": "GPU",
    "colab": {
      "provenance": []
    },
    "gpuClass": "standard",
    "kernelspec": {
      "display_name": "Python 3",
      "name": "python3"
    },
    "language_info": {
      "name": "python"
    }
  },
  "nbformat": 4,
  "nbformat_minor": 0
}